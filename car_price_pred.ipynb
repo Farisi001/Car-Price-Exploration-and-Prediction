{
 "cells": [
  {
   "cell_type": "markdown",
   "id": "244be0e9",
   "metadata": {},
   "source": [
    "# Vehicle Price Exploration And Prediction \n",
    "## by **SALMAN FARI**"
   ]
  },
  {
   "cell_type": "markdown",
   "id": "41fbb460",
   "metadata": {},
   "source": [
    "# Introduction\n",
    "This dataset contains information about used cars.\n",
    "This data can be used for a lot of purposes such as price prediction to exemplify the use of linear regression in Machine Learning."
   ]
  },
  {
   "cell_type": "markdown",
   "id": "f9b83e55",
   "metadata": {},
   "source": [
    "# The Dataset\n",
    "The columns in the given dataset are as follows:\n",
    "\n",
    "<li> name\n",
    "<li> year\n",
    "<li> selling_price\n",
    "<li> km_driven\n",
    "<li> fuel\n",
    "<li> seller_type\n",
    "<li> Transmission\n",
    "<li> Owner\n",
    "\n",
    "You can download the dataset from [Kaggle](https://www.kaggle.com/datasets/nehalbirla/vehicle-dataset-from-cardekho)."
   ]
  },
  {
   "cell_type": "markdown",
   "id": "1fe7cf64",
   "metadata": {},
   "source": [
    "# Loading Libraries"
   ]
  },
  {
   "cell_type": "code",
   "execution_count": 1,
   "id": "a1b750e3",
   "metadata": {},
   "outputs": [],
   "source": [
    "import pandas as pd\n",
    "import numpy as np\n",
    "import matplotlib.pyplot as plt\n",
    "%matplotlib inline\n",
    "%config InlineBackend.figure_format = 'retina'\n",
    "import seaborn as sns"
   ]
  },
  {
   "cell_type": "code",
   "execution_count": 2,
   "id": "27a75036",
   "metadata": {},
   "outputs": [
    {
     "data": {
      "text/html": [
       "<div>\n",
       "<style scoped>\n",
       "    .dataframe tbody tr th:only-of-type {\n",
       "        vertical-align: middle;\n",
       "    }\n",
       "\n",
       "    .dataframe tbody tr th {\n",
       "        vertical-align: top;\n",
       "    }\n",
       "\n",
       "    .dataframe thead th {\n",
       "        text-align: right;\n",
       "    }\n",
       "</style>\n",
       "<table border=\"1\" class=\"dataframe\">\n",
       "  <thead>\n",
       "    <tr style=\"text-align: right;\">\n",
       "      <th></th>\n",
       "      <th>name</th>\n",
       "      <th>year</th>\n",
       "      <th>selling_price</th>\n",
       "      <th>km_driven</th>\n",
       "      <th>fuel</th>\n",
       "      <th>seller_type</th>\n",
       "      <th>transmission</th>\n",
       "      <th>owner</th>\n",
       "      <th>mileage</th>\n",
       "      <th>engine</th>\n",
       "      <th>max_power</th>\n",
       "      <th>torque</th>\n",
       "      <th>seats</th>\n",
       "    </tr>\n",
       "  </thead>\n",
       "  <tbody>\n",
       "    <tr>\n",
       "      <th>0</th>\n",
       "      <td>Maruti Swift Dzire VDI</td>\n",
       "      <td>2014</td>\n",
       "      <td>450000</td>\n",
       "      <td>145500</td>\n",
       "      <td>Diesel</td>\n",
       "      <td>Individual</td>\n",
       "      <td>Manual</td>\n",
       "      <td>First Owner</td>\n",
       "      <td>23.4 kmpl</td>\n",
       "      <td>1248 CC</td>\n",
       "      <td>74 bhp</td>\n",
       "      <td>190Nm@ 2000rpm</td>\n",
       "      <td>5.0</td>\n",
       "    </tr>\n",
       "    <tr>\n",
       "      <th>1</th>\n",
       "      <td>Skoda Rapid 1.5 TDI Ambition</td>\n",
       "      <td>2014</td>\n",
       "      <td>370000</td>\n",
       "      <td>120000</td>\n",
       "      <td>Diesel</td>\n",
       "      <td>Individual</td>\n",
       "      <td>Manual</td>\n",
       "      <td>Second Owner</td>\n",
       "      <td>21.14 kmpl</td>\n",
       "      <td>1498 CC</td>\n",
       "      <td>103.52 bhp</td>\n",
       "      <td>250Nm@ 1500-2500rpm</td>\n",
       "      <td>5.0</td>\n",
       "    </tr>\n",
       "    <tr>\n",
       "      <th>2</th>\n",
       "      <td>Honda City 2017-2020 EXi</td>\n",
       "      <td>2006</td>\n",
       "      <td>158000</td>\n",
       "      <td>140000</td>\n",
       "      <td>Petrol</td>\n",
       "      <td>Individual</td>\n",
       "      <td>Manual</td>\n",
       "      <td>Third Owner</td>\n",
       "      <td>17.7 kmpl</td>\n",
       "      <td>1497 CC</td>\n",
       "      <td>78 bhp</td>\n",
       "      <td>12.7@ 2,700(kgm@ rpm)</td>\n",
       "      <td>5.0</td>\n",
       "    </tr>\n",
       "    <tr>\n",
       "      <th>3</th>\n",
       "      <td>Hyundai i20 Sportz Diesel</td>\n",
       "      <td>2010</td>\n",
       "      <td>225000</td>\n",
       "      <td>127000</td>\n",
       "      <td>Diesel</td>\n",
       "      <td>Individual</td>\n",
       "      <td>Manual</td>\n",
       "      <td>First Owner</td>\n",
       "      <td>23.0 kmpl</td>\n",
       "      <td>1396 CC</td>\n",
       "      <td>90 bhp</td>\n",
       "      <td>22.4 kgm at 1750-2750rpm</td>\n",
       "      <td>5.0</td>\n",
       "    </tr>\n",
       "    <tr>\n",
       "      <th>4</th>\n",
       "      <td>Maruti Swift VXI BSIII</td>\n",
       "      <td>2007</td>\n",
       "      <td>130000</td>\n",
       "      <td>120000</td>\n",
       "      <td>Petrol</td>\n",
       "      <td>Individual</td>\n",
       "      <td>Manual</td>\n",
       "      <td>First Owner</td>\n",
       "      <td>16.1 kmpl</td>\n",
       "      <td>1298 CC</td>\n",
       "      <td>88.2 bhp</td>\n",
       "      <td>11.5@ 4,500(kgm@ rpm)</td>\n",
       "      <td>5.0</td>\n",
       "    </tr>\n",
       "  </tbody>\n",
       "</table>\n",
       "</div>"
      ],
      "text/plain": [
       "                           name  year  selling_price  km_driven    fuel  \\\n",
       "0        Maruti Swift Dzire VDI  2014         450000     145500  Diesel   \n",
       "1  Skoda Rapid 1.5 TDI Ambition  2014         370000     120000  Diesel   \n",
       "2      Honda City 2017-2020 EXi  2006         158000     140000  Petrol   \n",
       "3     Hyundai i20 Sportz Diesel  2010         225000     127000  Diesel   \n",
       "4        Maruti Swift VXI BSIII  2007         130000     120000  Petrol   \n",
       "\n",
       "  seller_type transmission         owner     mileage   engine   max_power  \\\n",
       "0  Individual       Manual   First Owner   23.4 kmpl  1248 CC      74 bhp   \n",
       "1  Individual       Manual  Second Owner  21.14 kmpl  1498 CC  103.52 bhp   \n",
       "2  Individual       Manual   Third Owner   17.7 kmpl  1497 CC      78 bhp   \n",
       "3  Individual       Manual   First Owner   23.0 kmpl  1396 CC      90 bhp   \n",
       "4  Individual       Manual   First Owner   16.1 kmpl  1298 CC    88.2 bhp   \n",
       "\n",
       "                     torque  seats  \n",
       "0            190Nm@ 2000rpm    5.0  \n",
       "1       250Nm@ 1500-2500rpm    5.0  \n",
       "2     12.7@ 2,700(kgm@ rpm)    5.0  \n",
       "3  22.4 kgm at 1750-2750rpm    5.0  \n",
       "4     11.5@ 4,500(kgm@ rpm)    5.0  "
      ]
     },
     "execution_count": 2,
     "metadata": {},
     "output_type": "execute_result"
    }
   ],
   "source": [
    "df = pd.read_csv('Car details v3.csv')\n",
    "df.head()"
   ]
  },
  {
   "cell_type": "markdown",
   "id": "04231388",
   "metadata": {},
   "source": [
    "# Assessing Data\n",
    "## Visual Assessment "
   ]
  },
  {
   "cell_type": "code",
   "execution_count": 3,
   "id": "33a8312c",
   "metadata": {},
   "outputs": [
    {
     "data": {
      "text/html": [
       "<div>\n",
       "<style scoped>\n",
       "    .dataframe tbody tr th:only-of-type {\n",
       "        vertical-align: middle;\n",
       "    }\n",
       "\n",
       "    .dataframe tbody tr th {\n",
       "        vertical-align: top;\n",
       "    }\n",
       "\n",
       "    .dataframe thead th {\n",
       "        text-align: right;\n",
       "    }\n",
       "</style>\n",
       "<table border=\"1\" class=\"dataframe\">\n",
       "  <thead>\n",
       "    <tr style=\"text-align: right;\">\n",
       "      <th></th>\n",
       "      <th>name</th>\n",
       "      <th>year</th>\n",
       "      <th>selling_price</th>\n",
       "      <th>km_driven</th>\n",
       "      <th>fuel</th>\n",
       "      <th>seller_type</th>\n",
       "      <th>transmission</th>\n",
       "      <th>owner</th>\n",
       "      <th>mileage</th>\n",
       "      <th>engine</th>\n",
       "      <th>max_power</th>\n",
       "      <th>torque</th>\n",
       "      <th>seats</th>\n",
       "    </tr>\n",
       "  </thead>\n",
       "  <tbody>\n",
       "    <tr>\n",
       "      <th>0</th>\n",
       "      <td>Maruti Swift Dzire VDI</td>\n",
       "      <td>2014</td>\n",
       "      <td>450000</td>\n",
       "      <td>145500</td>\n",
       "      <td>Diesel</td>\n",
       "      <td>Individual</td>\n",
       "      <td>Manual</td>\n",
       "      <td>First Owner</td>\n",
       "      <td>23.4 kmpl</td>\n",
       "      <td>1248 CC</td>\n",
       "      <td>74 bhp</td>\n",
       "      <td>190Nm@ 2000rpm</td>\n",
       "      <td>5.0</td>\n",
       "    </tr>\n",
       "    <tr>\n",
       "      <th>1</th>\n",
       "      <td>Skoda Rapid 1.5 TDI Ambition</td>\n",
       "      <td>2014</td>\n",
       "      <td>370000</td>\n",
       "      <td>120000</td>\n",
       "      <td>Diesel</td>\n",
       "      <td>Individual</td>\n",
       "      <td>Manual</td>\n",
       "      <td>Second Owner</td>\n",
       "      <td>21.14 kmpl</td>\n",
       "      <td>1498 CC</td>\n",
       "      <td>103.52 bhp</td>\n",
       "      <td>250Nm@ 1500-2500rpm</td>\n",
       "      <td>5.0</td>\n",
       "    </tr>\n",
       "    <tr>\n",
       "      <th>2</th>\n",
       "      <td>Honda City 2017-2020 EXi</td>\n",
       "      <td>2006</td>\n",
       "      <td>158000</td>\n",
       "      <td>140000</td>\n",
       "      <td>Petrol</td>\n",
       "      <td>Individual</td>\n",
       "      <td>Manual</td>\n",
       "      <td>Third Owner</td>\n",
       "      <td>17.7 kmpl</td>\n",
       "      <td>1497 CC</td>\n",
       "      <td>78 bhp</td>\n",
       "      <td>12.7@ 2,700(kgm@ rpm)</td>\n",
       "      <td>5.0</td>\n",
       "    </tr>\n",
       "    <tr>\n",
       "      <th>3</th>\n",
       "      <td>Hyundai i20 Sportz Diesel</td>\n",
       "      <td>2010</td>\n",
       "      <td>225000</td>\n",
       "      <td>127000</td>\n",
       "      <td>Diesel</td>\n",
       "      <td>Individual</td>\n",
       "      <td>Manual</td>\n",
       "      <td>First Owner</td>\n",
       "      <td>23.0 kmpl</td>\n",
       "      <td>1396 CC</td>\n",
       "      <td>90 bhp</td>\n",
       "      <td>22.4 kgm at 1750-2750rpm</td>\n",
       "      <td>5.0</td>\n",
       "    </tr>\n",
       "    <tr>\n",
       "      <th>4</th>\n",
       "      <td>Maruti Swift VXI BSIII</td>\n",
       "      <td>2007</td>\n",
       "      <td>130000</td>\n",
       "      <td>120000</td>\n",
       "      <td>Petrol</td>\n",
       "      <td>Individual</td>\n",
       "      <td>Manual</td>\n",
       "      <td>First Owner</td>\n",
       "      <td>16.1 kmpl</td>\n",
       "      <td>1298 CC</td>\n",
       "      <td>88.2 bhp</td>\n",
       "      <td>11.5@ 4,500(kgm@ rpm)</td>\n",
       "      <td>5.0</td>\n",
       "    </tr>\n",
       "    <tr>\n",
       "      <th>...</th>\n",
       "      <td>...</td>\n",
       "      <td>...</td>\n",
       "      <td>...</td>\n",
       "      <td>...</td>\n",
       "      <td>...</td>\n",
       "      <td>...</td>\n",
       "      <td>...</td>\n",
       "      <td>...</td>\n",
       "      <td>...</td>\n",
       "      <td>...</td>\n",
       "      <td>...</td>\n",
       "      <td>...</td>\n",
       "      <td>...</td>\n",
       "    </tr>\n",
       "    <tr>\n",
       "      <th>8123</th>\n",
       "      <td>Hyundai i20 Magna</td>\n",
       "      <td>2013</td>\n",
       "      <td>320000</td>\n",
       "      <td>110000</td>\n",
       "      <td>Petrol</td>\n",
       "      <td>Individual</td>\n",
       "      <td>Manual</td>\n",
       "      <td>First Owner</td>\n",
       "      <td>18.5 kmpl</td>\n",
       "      <td>1197 CC</td>\n",
       "      <td>82.85 bhp</td>\n",
       "      <td>113.7Nm@ 4000rpm</td>\n",
       "      <td>5.0</td>\n",
       "    </tr>\n",
       "    <tr>\n",
       "      <th>8124</th>\n",
       "      <td>Hyundai Verna CRDi SX</td>\n",
       "      <td>2007</td>\n",
       "      <td>135000</td>\n",
       "      <td>119000</td>\n",
       "      <td>Diesel</td>\n",
       "      <td>Individual</td>\n",
       "      <td>Manual</td>\n",
       "      <td>Fourth &amp; Above Owner</td>\n",
       "      <td>16.8 kmpl</td>\n",
       "      <td>1493 CC</td>\n",
       "      <td>110 bhp</td>\n",
       "      <td>24@ 1,900-2,750(kgm@ rpm)</td>\n",
       "      <td>5.0</td>\n",
       "    </tr>\n",
       "    <tr>\n",
       "      <th>8125</th>\n",
       "      <td>Maruti Swift Dzire ZDi</td>\n",
       "      <td>2009</td>\n",
       "      <td>382000</td>\n",
       "      <td>120000</td>\n",
       "      <td>Diesel</td>\n",
       "      <td>Individual</td>\n",
       "      <td>Manual</td>\n",
       "      <td>First Owner</td>\n",
       "      <td>19.3 kmpl</td>\n",
       "      <td>1248 CC</td>\n",
       "      <td>73.9 bhp</td>\n",
       "      <td>190Nm@ 2000rpm</td>\n",
       "      <td>5.0</td>\n",
       "    </tr>\n",
       "    <tr>\n",
       "      <th>8126</th>\n",
       "      <td>Tata Indigo CR4</td>\n",
       "      <td>2013</td>\n",
       "      <td>290000</td>\n",
       "      <td>25000</td>\n",
       "      <td>Diesel</td>\n",
       "      <td>Individual</td>\n",
       "      <td>Manual</td>\n",
       "      <td>First Owner</td>\n",
       "      <td>23.57 kmpl</td>\n",
       "      <td>1396 CC</td>\n",
       "      <td>70 bhp</td>\n",
       "      <td>140Nm@ 1800-3000rpm</td>\n",
       "      <td>5.0</td>\n",
       "    </tr>\n",
       "    <tr>\n",
       "      <th>8127</th>\n",
       "      <td>Tata Indigo CR4</td>\n",
       "      <td>2013</td>\n",
       "      <td>290000</td>\n",
       "      <td>25000</td>\n",
       "      <td>Diesel</td>\n",
       "      <td>Individual</td>\n",
       "      <td>Manual</td>\n",
       "      <td>First Owner</td>\n",
       "      <td>23.57 kmpl</td>\n",
       "      <td>1396 CC</td>\n",
       "      <td>70 bhp</td>\n",
       "      <td>140Nm@ 1800-3000rpm</td>\n",
       "      <td>5.0</td>\n",
       "    </tr>\n",
       "  </tbody>\n",
       "</table>\n",
       "<p>8128 rows × 13 columns</p>\n",
       "</div>"
      ],
      "text/plain": [
       "                              name  year  selling_price  km_driven    fuel  \\\n",
       "0           Maruti Swift Dzire VDI  2014         450000     145500  Diesel   \n",
       "1     Skoda Rapid 1.5 TDI Ambition  2014         370000     120000  Diesel   \n",
       "2         Honda City 2017-2020 EXi  2006         158000     140000  Petrol   \n",
       "3        Hyundai i20 Sportz Diesel  2010         225000     127000  Diesel   \n",
       "4           Maruti Swift VXI BSIII  2007         130000     120000  Petrol   \n",
       "...                            ...   ...            ...        ...     ...   \n",
       "8123             Hyundai i20 Magna  2013         320000     110000  Petrol   \n",
       "8124         Hyundai Verna CRDi SX  2007         135000     119000  Diesel   \n",
       "8125        Maruti Swift Dzire ZDi  2009         382000     120000  Diesel   \n",
       "8126               Tata Indigo CR4  2013         290000      25000  Diesel   \n",
       "8127               Tata Indigo CR4  2013         290000      25000  Diesel   \n",
       "\n",
       "     seller_type transmission                 owner     mileage   engine  \\\n",
       "0     Individual       Manual           First Owner   23.4 kmpl  1248 CC   \n",
       "1     Individual       Manual          Second Owner  21.14 kmpl  1498 CC   \n",
       "2     Individual       Manual           Third Owner   17.7 kmpl  1497 CC   \n",
       "3     Individual       Manual           First Owner   23.0 kmpl  1396 CC   \n",
       "4     Individual       Manual           First Owner   16.1 kmpl  1298 CC   \n",
       "...          ...          ...                   ...         ...      ...   \n",
       "8123  Individual       Manual           First Owner   18.5 kmpl  1197 CC   \n",
       "8124  Individual       Manual  Fourth & Above Owner   16.8 kmpl  1493 CC   \n",
       "8125  Individual       Manual           First Owner   19.3 kmpl  1248 CC   \n",
       "8126  Individual       Manual           First Owner  23.57 kmpl  1396 CC   \n",
       "8127  Individual       Manual           First Owner  23.57 kmpl  1396 CC   \n",
       "\n",
       "       max_power                     torque  seats  \n",
       "0         74 bhp             190Nm@ 2000rpm    5.0  \n",
       "1     103.52 bhp        250Nm@ 1500-2500rpm    5.0  \n",
       "2         78 bhp      12.7@ 2,700(kgm@ rpm)    5.0  \n",
       "3         90 bhp   22.4 kgm at 1750-2750rpm    5.0  \n",
       "4       88.2 bhp      11.5@ 4,500(kgm@ rpm)    5.0  \n",
       "...          ...                        ...    ...  \n",
       "8123   82.85 bhp           113.7Nm@ 4000rpm    5.0  \n",
       "8124     110 bhp  24@ 1,900-2,750(kgm@ rpm)    5.0  \n",
       "8125    73.9 bhp             190Nm@ 2000rpm    5.0  \n",
       "8126      70 bhp        140Nm@ 1800-3000rpm    5.0  \n",
       "8127      70 bhp        140Nm@ 1800-3000rpm    5.0  \n",
       "\n",
       "[8128 rows x 13 columns]"
      ]
     },
     "execution_count": 3,
     "metadata": {},
     "output_type": "execute_result"
    }
   ],
   "source": [
    "df"
   ]
  },
  {
   "cell_type": "markdown",
   "id": "a8b24793",
   "metadata": {},
   "source": [
    "## Programmatic Assessment "
   ]
  },
  {
   "cell_type": "code",
   "execution_count": 4,
   "id": "b03871b3",
   "metadata": {},
   "outputs": [
    {
     "name": "stdout",
     "output_type": "stream",
     "text": [
      "<class 'pandas.core.frame.DataFrame'>\n",
      "RangeIndex: 8128 entries, 0 to 8127\n",
      "Data columns (total 13 columns):\n",
      " #   Column         Non-Null Count  Dtype  \n",
      "---  ------         --------------  -----  \n",
      " 0   name           8128 non-null   object \n",
      " 1   year           8128 non-null   int64  \n",
      " 2   selling_price  8128 non-null   int64  \n",
      " 3   km_driven      8128 non-null   int64  \n",
      " 4   fuel           8128 non-null   object \n",
      " 5   seller_type    8128 non-null   object \n",
      " 6   transmission   8128 non-null   object \n",
      " 7   owner          8128 non-null   object \n",
      " 8   mileage        7907 non-null   object \n",
      " 9   engine         7907 non-null   object \n",
      " 10  max_power      7913 non-null   object \n",
      " 11  torque         7906 non-null   object \n",
      " 12  seats          7907 non-null   float64\n",
      "dtypes: float64(1), int64(3), object(9)\n",
      "memory usage: 825.6+ KB\n"
     ]
    }
   ],
   "source": [
    "#check for dataset information\n",
    "df.info()"
   ]
  },
  {
   "cell_type": "code",
   "execution_count": 5,
   "id": "d74a81f4",
   "metadata": {},
   "outputs": [],
   "source": [
    "#To display four digit in float numbers\n",
    "pd.options.display.float_format = '{:.4f}'.format"
   ]
  },
  {
   "cell_type": "code",
   "execution_count": 6,
   "id": "ad09ebe7",
   "metadata": {},
   "outputs": [
    {
     "data": {
      "text/plain": [
       "count       8128.0000\n",
       "mean      638271.8077\n",
       "std       806253.4035\n",
       "min        29999.0000\n",
       "25%       254999.0000\n",
       "50%       450000.0000\n",
       "75%       675000.0000\n",
       "max     10000000.0000\n",
       "Name: selling_price, dtype: float64"
      ]
     },
     "execution_count": 6,
     "metadata": {},
     "output_type": "execute_result"
    }
   ],
   "source": [
    "#check for descriptive information of the selling_price column\n",
    "df.selling_price.describe()"
   ]
  },
  {
   "cell_type": "code",
   "execution_count": 7,
   "id": "bedd2a56",
   "metadata": {},
   "outputs": [
    {
     "data": {
      "text/plain": [
       "name               0\n",
       "year               0\n",
       "selling_price      0\n",
       "km_driven          0\n",
       "fuel               0\n",
       "seller_type        0\n",
       "transmission       0\n",
       "owner              0\n",
       "mileage          221\n",
       "engine           221\n",
       "max_power        215\n",
       "torque           222\n",
       "seats            221\n",
       "dtype: int64"
      ]
     },
     "execution_count": 7,
     "metadata": {},
     "output_type": "execute_result"
    }
   ],
   "source": [
    "#check for missing values\n",
    "df.isnull().sum()"
   ]
  },
  {
   "cell_type": "code",
   "execution_count": 8,
   "id": "6e93b122",
   "metadata": {},
   "outputs": [
    {
     "data": {
      "text/plain": [
       "1202"
      ]
     },
     "execution_count": 8,
     "metadata": {},
     "output_type": "execute_result"
    }
   ],
   "source": [
    "#check for duplicated values\n",
    "df.duplicated().sum()"
   ]
  },
  {
   "cell_type": "markdown",
   "id": "4fe05a6d",
   "metadata": {},
   "source": [
    "# Data Cleaning\n",
    "### Quality Issues\n",
    "<li> There are missing values\n",
    "<li> There are duplicated values\n",
    "<li> The names in name column are too long\n",
    "<li> fuel, seller_type, transmission, owner is not in categorical format\n",
    "<li> mileage has two different units\n",
    "<li> engine column has its unit in the values (CC)\n",
    "<li> max_power column has its unit in the values (bhp)</li>\n",
    "\n",
    "### Tidy Issues\n",
    "<li> Torque column has different units"
   ]
  },
  {
   "cell_type": "code",
   "execution_count": 9,
   "id": "4e773d22",
   "metadata": {},
   "outputs": [],
   "source": [
    "#make a copy of the dataset\n",
    "df_clean = df.copy()"
   ]
  },
  {
   "cell_type": "markdown",
   "id": "510ca32e",
   "metadata": {},
   "source": [
    "# Cleaning Quality Issues"
   ]
  },
  {
   "cell_type": "markdown",
   "id": "0a80ba01",
   "metadata": {},
   "source": [
    "## Q1: There are missing values"
   ]
  },
  {
   "cell_type": "markdown",
   "id": "a4c9e2f9",
   "metadata": {},
   "source": [
    "### Define\n",
    "Drop missing rows"
   ]
  },
  {
   "cell_type": "markdown",
   "id": "87f90ada",
   "metadata": {},
   "source": [
    "### Code"
   ]
  },
  {
   "cell_type": "code",
   "execution_count": 10,
   "id": "a51474f3",
   "metadata": {},
   "outputs": [],
   "source": [
    "#drop all missing rows\n",
    "df_clean.dropna(inplace=True)"
   ]
  },
  {
   "cell_type": "markdown",
   "id": "8eb3310a",
   "metadata": {},
   "source": [
    "### Test"
   ]
  },
  {
   "cell_type": "code",
   "execution_count": 11,
   "id": "bcf46172",
   "metadata": {},
   "outputs": [
    {
     "data": {
      "text/plain": [
       "name             0\n",
       "year             0\n",
       "selling_price    0\n",
       "km_driven        0\n",
       "fuel             0\n",
       "seller_type      0\n",
       "transmission     0\n",
       "owner            0\n",
       "mileage          0\n",
       "engine           0\n",
       "max_power        0\n",
       "torque           0\n",
       "seats            0\n",
       "dtype: int64"
      ]
     },
     "execution_count": 11,
     "metadata": {},
     "output_type": "execute_result"
    }
   ],
   "source": [
    "#check for missing values\n",
    "df_clean.isnull().sum()"
   ]
  },
  {
   "cell_type": "markdown",
   "id": "dbd08904",
   "metadata": {},
   "source": [
    "## Q2: There are duplicated values\n",
    "### Define\n",
    "Drop duplicate rows"
   ]
  },
  {
   "cell_type": "markdown",
   "id": "f974ea16",
   "metadata": {},
   "source": [
    "### Code"
   ]
  },
  {
   "cell_type": "code",
   "execution_count": 12,
   "id": "4996440a",
   "metadata": {},
   "outputs": [],
   "source": [
    "#drop all duplicate rows\n",
    "df_clean.drop_duplicates(inplace=True)"
   ]
  },
  {
   "cell_type": "markdown",
   "id": "34d72bbd",
   "metadata": {},
   "source": [
    "### Test"
   ]
  },
  {
   "cell_type": "code",
   "execution_count": 13,
   "id": "f578a04d",
   "metadata": {},
   "outputs": [
    {
     "data": {
      "text/plain": [
       "0"
      ]
     },
     "execution_count": 13,
     "metadata": {},
     "output_type": "execute_result"
    }
   ],
   "source": [
    "#check for duplicate rows\n",
    "df_clean.duplicated().sum()"
   ]
  },
  {
   "cell_type": "markdown",
   "id": "c8a531f4",
   "metadata": {},
   "source": [
    "## Q3: The names in name column are too long\n",
    "### Define\n",
    "Slice the name into 3 words"
   ]
  },
  {
   "cell_type": "markdown",
   "id": "8f250cc8",
   "metadata": {},
   "source": [
    "### Code"
   ]
  },
  {
   "cell_type": "code",
   "execution_count": 14,
   "id": "1b561ae5",
   "metadata": {},
   "outputs": [],
   "source": [
    "#change name column to 3 words name\n",
    "df_clean.name = df_clean.name.str.split().str.slice(0,3).str.join(' ')"
   ]
  },
  {
   "cell_type": "markdown",
   "id": "aaf4d482",
   "metadata": {},
   "source": [
    "### Test"
   ]
  },
  {
   "cell_type": "code",
   "execution_count": 15,
   "id": "fad9b9d2",
   "metadata": {},
   "outputs": [
    {
     "data": {
      "text/plain": [
       "0         Maruti Swift Dzire\n",
       "1            Skoda Rapid 1.5\n",
       "2       Honda City 2017-2020\n",
       "3         Hyundai i20 Sportz\n",
       "4           Maruti Swift VXI\n",
       "                ...         \n",
       "8121          Maruti Wagon R\n",
       "8122       Hyundai i20 Magna\n",
       "8123       Hyundai i20 Magna\n",
       "8124      Hyundai Verna CRDi\n",
       "8125      Maruti Swift Dzire\n",
       "Name: name, Length: 6717, dtype: object"
      ]
     },
     "execution_count": 15,
     "metadata": {},
     "output_type": "execute_result"
    }
   ],
   "source": [
    "#check name column\n",
    "df_clean.name"
   ]
  },
  {
   "cell_type": "markdown",
   "id": "ae9d1435",
   "metadata": {},
   "source": [
    "## Q4: fuel, seller_type, transmission, owner is not in categorical format\n",
    "### Define\n",
    "convert the columns type to categorical"
   ]
  },
  {
   "cell_type": "markdown",
   "id": "96e6d4bf",
   "metadata": {},
   "source": [
    "### Code"
   ]
  },
  {
   "cell_type": "code",
   "execution_count": 16,
   "id": "fd725965",
   "metadata": {},
   "outputs": [],
   "source": [
    "#convert fuel column datatype to categorical\n",
    "df_clean.fuel = df_clean.fuel.astype('category')"
   ]
  },
  {
   "cell_type": "code",
   "execution_count": 17,
   "id": "dce07867",
   "metadata": {},
   "outputs": [],
   "source": [
    "#convert seller_type column datatype to categorical\n",
    "df_clean.seller_type = df_clean.seller_type.astype('category')"
   ]
  },
  {
   "cell_type": "code",
   "execution_count": 18,
   "id": "a8a0d93c",
   "metadata": {},
   "outputs": [],
   "source": [
    "#convert transmission column datatype to categorical\n",
    "df_clean.transmission = df_clean.transmission.astype('category')"
   ]
  },
  {
   "cell_type": "code",
   "execution_count": 19,
   "id": "0692006b",
   "metadata": {},
   "outputs": [],
   "source": [
    "#convert owner column datatype to categorical\n",
    "df_clean.owner = df_clean.owner.astype('category')"
   ]
  },
  {
   "cell_type": "markdown",
   "id": "dd04aba3",
   "metadata": {},
   "source": [
    "### Test"
   ]
  },
  {
   "cell_type": "code",
   "execution_count": 20,
   "id": "32f83e06",
   "metadata": {},
   "outputs": [
    {
     "name": "stdout",
     "output_type": "stream",
     "text": [
      "<class 'pandas.core.frame.DataFrame'>\n",
      "Int64Index: 6717 entries, 0 to 8125\n",
      "Data columns (total 13 columns):\n",
      " #   Column         Non-Null Count  Dtype   \n",
      "---  ------         --------------  -----   \n",
      " 0   name           6717 non-null   object  \n",
      " 1   year           6717 non-null   int64   \n",
      " 2   selling_price  6717 non-null   int64   \n",
      " 3   km_driven      6717 non-null   int64   \n",
      " 4   fuel           6717 non-null   category\n",
      " 5   seller_type    6717 non-null   category\n",
      " 6   transmission   6717 non-null   category\n",
      " 7   owner          6717 non-null   category\n",
      " 8   mileage        6717 non-null   object  \n",
      " 9   engine         6717 non-null   object  \n",
      " 10  max_power      6717 non-null   object  \n",
      " 11  torque         6717 non-null   object  \n",
      " 12  seats          6717 non-null   float64 \n",
      "dtypes: category(4), float64(1), int64(3), object(5)\n",
      "memory usage: 551.7+ KB\n"
     ]
    }
   ],
   "source": [
    "#check dataset information\n",
    "df_clean.info()"
   ]
  },
  {
   "cell_type": "markdown",
   "id": "0b009058",
   "metadata": {},
   "source": [
    "## Q5: mileage has two different units\n",
    "### Define\n",
    "convert values with km/g to kmpl and remove the unit from the rows"
   ]
  },
  {
   "cell_type": "markdown",
   "id": "96d8696e",
   "metadata": {},
   "source": [
    "### Code"
   ]
  },
  {
   "cell_type": "code",
   "execution_count": 21,
   "id": "e43ec7bb",
   "metadata": {},
   "outputs": [],
   "source": [
    "#function to convert km/g to kmpl and remove the unit from the rows\n",
    "correct_mileage = []\n",
    "for i in df_clean.mileage:\n",
    "    if str(i).endswith('km/kg'):\n",
    "        i = i[:-6]\n",
    "        i = float(i)*1.40\n",
    "        correct_mileage.append(float(i))\n",
    "    elif str(i).endswith('kmpl'):\n",
    "        i = i[:-4]\n",
    "        correct_mileage.append(float(i))"
   ]
  },
  {
   "cell_type": "code",
   "execution_count": 22,
   "id": "848d3f1c",
   "metadata": {},
   "outputs": [],
   "source": [
    "#change mileage values to values without unit\n",
    "df_clean['mileage'] = correct_mileage"
   ]
  },
  {
   "cell_type": "markdown",
   "id": "b530960a",
   "metadata": {},
   "source": [
    "### Test"
   ]
  },
  {
   "cell_type": "code",
   "execution_count": 23,
   "id": "a40dd619",
   "metadata": {},
   "outputs": [
    {
     "data": {
      "text/html": [
       "<div>\n",
       "<style scoped>\n",
       "    .dataframe tbody tr th:only-of-type {\n",
       "        vertical-align: middle;\n",
       "    }\n",
       "\n",
       "    .dataframe tbody tr th {\n",
       "        vertical-align: top;\n",
       "    }\n",
       "\n",
       "    .dataframe thead th {\n",
       "        text-align: right;\n",
       "    }\n",
       "</style>\n",
       "<table border=\"1\" class=\"dataframe\">\n",
       "  <thead>\n",
       "    <tr style=\"text-align: right;\">\n",
       "      <th></th>\n",
       "      <th>name</th>\n",
       "      <th>year</th>\n",
       "      <th>selling_price</th>\n",
       "      <th>km_driven</th>\n",
       "      <th>fuel</th>\n",
       "      <th>seller_type</th>\n",
       "      <th>transmission</th>\n",
       "      <th>owner</th>\n",
       "      <th>mileage</th>\n",
       "      <th>engine</th>\n",
       "      <th>max_power</th>\n",
       "      <th>torque</th>\n",
       "      <th>seats</th>\n",
       "    </tr>\n",
       "  </thead>\n",
       "  <tbody>\n",
       "    <tr>\n",
       "      <th>0</th>\n",
       "      <td>Maruti Swift Dzire</td>\n",
       "      <td>2014</td>\n",
       "      <td>450000</td>\n",
       "      <td>145500</td>\n",
       "      <td>Diesel</td>\n",
       "      <td>Individual</td>\n",
       "      <td>Manual</td>\n",
       "      <td>First Owner</td>\n",
       "      <td>23.4000</td>\n",
       "      <td>1248 CC</td>\n",
       "      <td>74 bhp</td>\n",
       "      <td>190Nm@ 2000rpm</td>\n",
       "      <td>5.0000</td>\n",
       "    </tr>\n",
       "    <tr>\n",
       "      <th>1</th>\n",
       "      <td>Skoda Rapid 1.5</td>\n",
       "      <td>2014</td>\n",
       "      <td>370000</td>\n",
       "      <td>120000</td>\n",
       "      <td>Diesel</td>\n",
       "      <td>Individual</td>\n",
       "      <td>Manual</td>\n",
       "      <td>Second Owner</td>\n",
       "      <td>21.1400</td>\n",
       "      <td>1498 CC</td>\n",
       "      <td>103.52 bhp</td>\n",
       "      <td>250Nm@ 1500-2500rpm</td>\n",
       "      <td>5.0000</td>\n",
       "    </tr>\n",
       "    <tr>\n",
       "      <th>2</th>\n",
       "      <td>Honda City 2017-2020</td>\n",
       "      <td>2006</td>\n",
       "      <td>158000</td>\n",
       "      <td>140000</td>\n",
       "      <td>Petrol</td>\n",
       "      <td>Individual</td>\n",
       "      <td>Manual</td>\n",
       "      <td>Third Owner</td>\n",
       "      <td>17.7000</td>\n",
       "      <td>1497 CC</td>\n",
       "      <td>78 bhp</td>\n",
       "      <td>12.7@ 2,700(kgm@ rpm)</td>\n",
       "      <td>5.0000</td>\n",
       "    </tr>\n",
       "    <tr>\n",
       "      <th>3</th>\n",
       "      <td>Hyundai i20 Sportz</td>\n",
       "      <td>2010</td>\n",
       "      <td>225000</td>\n",
       "      <td>127000</td>\n",
       "      <td>Diesel</td>\n",
       "      <td>Individual</td>\n",
       "      <td>Manual</td>\n",
       "      <td>First Owner</td>\n",
       "      <td>23.0000</td>\n",
       "      <td>1396 CC</td>\n",
       "      <td>90 bhp</td>\n",
       "      <td>22.4 kgm at 1750-2750rpm</td>\n",
       "      <td>5.0000</td>\n",
       "    </tr>\n",
       "    <tr>\n",
       "      <th>4</th>\n",
       "      <td>Maruti Swift VXI</td>\n",
       "      <td>2007</td>\n",
       "      <td>130000</td>\n",
       "      <td>120000</td>\n",
       "      <td>Petrol</td>\n",
       "      <td>Individual</td>\n",
       "      <td>Manual</td>\n",
       "      <td>First Owner</td>\n",
       "      <td>16.1000</td>\n",
       "      <td>1298 CC</td>\n",
       "      <td>88.2 bhp</td>\n",
       "      <td>11.5@ 4,500(kgm@ rpm)</td>\n",
       "      <td>5.0000</td>\n",
       "    </tr>\n",
       "  </tbody>\n",
       "</table>\n",
       "</div>"
      ],
      "text/plain": [
       "                   name  year  selling_price  km_driven    fuel seller_type  \\\n",
       "0    Maruti Swift Dzire  2014         450000     145500  Diesel  Individual   \n",
       "1       Skoda Rapid 1.5  2014         370000     120000  Diesel  Individual   \n",
       "2  Honda City 2017-2020  2006         158000     140000  Petrol  Individual   \n",
       "3    Hyundai i20 Sportz  2010         225000     127000  Diesel  Individual   \n",
       "4      Maruti Swift VXI  2007         130000     120000  Petrol  Individual   \n",
       "\n",
       "  transmission         owner  mileage   engine   max_power  \\\n",
       "0       Manual   First Owner  23.4000  1248 CC      74 bhp   \n",
       "1       Manual  Second Owner  21.1400  1498 CC  103.52 bhp   \n",
       "2       Manual   Third Owner  17.7000  1497 CC      78 bhp   \n",
       "3       Manual   First Owner  23.0000  1396 CC      90 bhp   \n",
       "4       Manual   First Owner  16.1000  1298 CC    88.2 bhp   \n",
       "\n",
       "                     torque  seats  \n",
       "0            190Nm@ 2000rpm 5.0000  \n",
       "1       250Nm@ 1500-2500rpm 5.0000  \n",
       "2     12.7@ 2,700(kgm@ rpm) 5.0000  \n",
       "3  22.4 kgm at 1750-2750rpm 5.0000  \n",
       "4     11.5@ 4,500(kgm@ rpm) 5.0000  "
      ]
     },
     "execution_count": 23,
     "metadata": {},
     "output_type": "execute_result"
    }
   ],
   "source": [
    "df_clean.head()"
   ]
  },
  {
   "cell_type": "markdown",
   "id": "a7cfa2b0",
   "metadata": {},
   "source": [
    "## Q6: engine column has its unit in the values\n",
    "### Define\n",
    "remove 'cc' from the rows"
   ]
  },
  {
   "cell_type": "markdown",
   "id": "cad0254e",
   "metadata": {},
   "source": [
    "### Code"
   ]
  },
  {
   "cell_type": "code",
   "execution_count": 24,
   "id": "6815709d",
   "metadata": {},
   "outputs": [],
   "source": [
    "#replace 'CC' with empty strings\n",
    "df_clean['engine'] = df_clean[\"engine\"].str.replace(\"CC\",\"\")"
   ]
  },
  {
   "cell_type": "code",
   "execution_count": 25,
   "id": "7d13e5fa",
   "metadata": {},
   "outputs": [],
   "source": [
    "#convert engine column to int\n",
    "df_clean.engine = df_clean.engine.astype('int')"
   ]
  },
  {
   "cell_type": "markdown",
   "id": "93d2aa90",
   "metadata": {},
   "source": [
    "### Test"
   ]
  },
  {
   "cell_type": "code",
   "execution_count": 26,
   "id": "70c46f0c",
   "metadata": {},
   "outputs": [
    {
     "data": {
      "text/plain": [
       "0       1248\n",
       "1       1498\n",
       "2       1497\n",
       "3       1396\n",
       "4       1298\n",
       "        ... \n",
       "8121     998\n",
       "8122    1396\n",
       "8123    1197\n",
       "8124    1493\n",
       "8125    1248\n",
       "Name: engine, Length: 6717, dtype: int64"
      ]
     },
     "execution_count": 26,
     "metadata": {},
     "output_type": "execute_result"
    }
   ],
   "source": [
    "df_clean.engine"
   ]
  },
  {
   "cell_type": "markdown",
   "id": "61a2cb01",
   "metadata": {},
   "source": [
    "## Q7: max_power column has its unit in the rows\n",
    "### Define\n",
    "remove 'bhp' from the rows"
   ]
  },
  {
   "cell_type": "code",
   "execution_count": 27,
   "id": "2954b535",
   "metadata": {},
   "outputs": [],
   "source": [
    "#replace 'bhp' with empty strings\n",
    "df_clean['max_power'] = df_clean['max_power'].str.replace('bhp','')"
   ]
  },
  {
   "cell_type": "code",
   "execution_count": 28,
   "id": "7ffb45e1",
   "metadata": {},
   "outputs": [],
   "source": [
    "#convert max_power column to float\n",
    "df_clean.max_power = df_clean.max_power.astype('float')"
   ]
  },
  {
   "cell_type": "markdown",
   "id": "7e07cfae",
   "metadata": {},
   "source": [
    "### Test"
   ]
  },
  {
   "cell_type": "code",
   "execution_count": 29,
   "id": "15492901",
   "metadata": {},
   "outputs": [
    {
     "data": {
      "text/plain": [
       "0       74.0000\n",
       "1      103.5200\n",
       "2       78.0000\n",
       "3       90.0000\n",
       "4       88.2000\n",
       "         ...   \n",
       "8121    67.1000\n",
       "8122    88.7300\n",
       "8123    82.8500\n",
       "8124   110.0000\n",
       "8125    73.9000\n",
       "Name: max_power, Length: 6717, dtype: float64"
      ]
     },
     "execution_count": 29,
     "metadata": {},
     "output_type": "execute_result"
    }
   ],
   "source": [
    "df_clean.max_power"
   ]
  },
  {
   "cell_type": "markdown",
   "id": "a474405c",
   "metadata": {},
   "source": [
    "## T1: Torque column has different units\n",
    "### Define\n",
    "drop column"
   ]
  },
  {
   "cell_type": "markdown",
   "id": "fee50d67",
   "metadata": {},
   "source": [
    "### Code"
   ]
  },
  {
   "cell_type": "code",
   "execution_count": 30,
   "id": "d068e1e8",
   "metadata": {},
   "outputs": [],
   "source": [
    "#drop torque column\n",
    "df_clean.drop('torque', axis=1, inplace=True)"
   ]
  },
  {
   "cell_type": "markdown",
   "id": "d6342b82",
   "metadata": {},
   "source": [
    "### Test"
   ]
  },
  {
   "cell_type": "code",
   "execution_count": 31,
   "id": "13bba8d8",
   "metadata": {},
   "outputs": [
    {
     "name": "stdout",
     "output_type": "stream",
     "text": [
      "<class 'pandas.core.frame.DataFrame'>\n",
      "Int64Index: 6717 entries, 0 to 8125\n",
      "Data columns (total 12 columns):\n",
      " #   Column         Non-Null Count  Dtype   \n",
      "---  ------         --------------  -----   \n",
      " 0   name           6717 non-null   object  \n",
      " 1   year           6717 non-null   int64   \n",
      " 2   selling_price  6717 non-null   int64   \n",
      " 3   km_driven      6717 non-null   int64   \n",
      " 4   fuel           6717 non-null   category\n",
      " 5   seller_type    6717 non-null   category\n",
      " 6   transmission   6717 non-null   category\n",
      " 7   owner          6717 non-null   category\n",
      " 8   mileage        6717 non-null   float64 \n",
      " 9   engine         6717 non-null   int64   \n",
      " 10  max_power      6717 non-null   float64 \n",
      " 11  seats          6717 non-null   float64 \n",
      "dtypes: category(4), float64(3), int64(4), object(1)\n",
      "memory usage: 499.2+ KB\n"
     ]
    }
   ],
   "source": [
    "#check the dataset information\n",
    "df_clean.info()"
   ]
  },
  {
   "cell_type": "markdown",
   "id": "6adfe155",
   "metadata": {},
   "source": [
    "# Store Data"
   ]
  },
  {
   "cell_type": "code",
   "execution_count": 118,
   "id": "13fc901c",
   "metadata": {},
   "outputs": [],
   "source": [
    "df_clean.to_csv('clean_car_price_pred.csv', index=False)"
   ]
  },
  {
   "cell_type": "markdown",
   "id": "8097169f",
   "metadata": {},
   "source": [
    "# Univariate Exploration"
   ]
  },
  {
   "cell_type": "markdown",
   "id": "4263240e",
   "metadata": {},
   "source": [
    "### What is the distribution of Fuel?"
   ]
  },
  {
   "cell_type": "code",
   "execution_count": 33,
   "id": "b35a3f6a",
   "metadata": {},
   "outputs": [],
   "source": [
    "#Create a function to plot the title and label of a plot\n",
    "def x_y_t(xL,yL,title):\n",
    "    plt.title(title, fontweight='bold', fontsize='14')\n",
    "    plt.xlabel(xL, fontweight='bold')\n",
    "    plt.ylabel(yL, fontweight='bold')\n",
    "color = sns.color_palette()[0]"
   ]
  },
  {
   "cell_type": "code",
   "execution_count": 34,
   "id": "6287a20d",
   "metadata": {},
   "outputs": [
    {
     "data": {
      "image/png": "[encoded data removed]",
      "text/plain": [
       "<Figure size 720x432 with 1 Axes>"
      ]
     },
     "metadata": {
      "image/png": {
       "height": 387,
       "width": 618
      },
      "needs_background": "light"
     },
     "output_type": "display_data"
    }
   ],
   "source": [
    "#Set a larger figure size for the plot\n",
    "plt.figure(figsize=[10,6])\n",
    "\n",
    "# Get the indexes of the Series\n",
    "order = df_clean.fuel.value_counts().index\n",
    "\n",
    "# Plot the bar chart in the decreasing order of the frequency of the `fuel`\n",
    "sns.countplot(data=df_clean, x='fuel', order=order, color=color);\n",
    "x_y_t('Fuel Type', 'Number of Cars', 'Fuel Distribution')"
   ]
  },
  {
   "cell_type": "markdown",
   "id": "784c488d",
   "metadata": {},
   "source": [
    "There are more diesel cars than petrol cars"
   ]
  },
  {
   "cell_type": "markdown",
   "id": "27ffb105",
   "metadata": {},
   "source": [
    "### What is the distribution of Seller Type"
   ]
  },
  {
   "cell_type": "code",
   "execution_count": 35,
   "id": "a1746310",
   "metadata": {},
   "outputs": [
    {
     "data": {
      "image/png": "[encoded data removed]",
      "text/plain": [
       "<Figure size 720x432 with 1 Axes>"
      ]
     },
     "metadata": {
      "image/png": {
       "height": 387,
       "width": 618
      },
      "needs_background": "light"
     },
     "output_type": "display_data"
    }
   ],
   "source": [
    "#Set a larger figure size for the plot\n",
    "plt.figure(figsize=[10,6])\n",
    "\n",
    "# Get the indexes of the Series\n",
    "order = df_clean.seller_type.value_counts().index\n",
    "\n",
    "# Plot the bar chart in the decreasing order of the frequency of the `seller_type`\n",
    "sns.countplot(data=df_clean, x='seller_type', order=order, color=color);\n",
    "x_y_t('Seller Type', 'Number of Cars', 'Seller Type Distribution')"
   ]
  },
  {
   "cell_type": "markdown",
   "id": "301d6977",
   "metadata": {},
   "source": [
    "There are more individual sellers than dealers and trustmark dealers"
   ]
  },
  {
   "cell_type": "markdown",
   "id": "c5c9877c",
   "metadata": {},
   "source": [
    "### What is the distribution of Transmission?"
   ]
  },
  {
   "cell_type": "code",
   "execution_count": 36,
   "id": "e8301937",
   "metadata": {},
   "outputs": [
    {
     "data": {
      "image/png": "[encoded data removed]",
      "text/plain": [
       "<Figure size 720x432 with 1 Axes>"
      ]
     },
     "metadata": {
      "image/png": {
       "height": 387,
       "width": 618
      },
      "needs_background": "light"
     },
     "output_type": "display_data"
    }
   ],
   "source": [
    "#Set a larger figure size for the plot\n",
    "plt.figure(figsize=[10,6])\n",
    "\n",
    "# Get the indexes of the Series\n",
    "order = df_clean.transmission.value_counts().index\n",
    "\n",
    "# Plot the bar chart in the decreasing order of the frequency of the `seller_type`\n",
    "sns.countplot(data=df_clean, x='transmission', order=order, color=color);\n",
    "x_y_t('Transmission', 'Number of Cars', 'Transmission Distribution')"
   ]
  },
  {
   "cell_type": "markdown",
   "id": "73471382",
   "metadata": {},
   "source": [
    "Manual cars are more popular than automatic"
   ]
  },
  {
   "cell_type": "markdown",
   "id": "5fc7d41b",
   "metadata": {},
   "source": [
    "### What is the distribution of Owners?"
   ]
  },
  {
   "cell_type": "code",
   "execution_count": 37,
   "id": "45e0b24a",
   "metadata": {},
   "outputs": [
    {
     "data": {
      "image/png": "[encoded data removed]",
      "text/plain": [
       "<Figure size 720x432 with 1 Axes>"
      ]
     },
     "metadata": {
      "image/png": {
       "height": 387,
       "width": 618
      },
      "needs_background": "light"
     },
     "output_type": "display_data"
    }
   ],
   "source": [
    "#Set a larger figure size for the plot\n",
    "plt.figure(figsize=[10,6])\n",
    "\n",
    "# Get the indexes of the Series\n",
    "order = df_clean.owner.value_counts().index\n",
    "\n",
    "# Plot the bar chart in the decreasing order of the frequency of the `seller_type`\n",
    "sns.countplot(data=df_clean, x='owner', order=order, color=color);\n",
    "x_y_t('Owner', 'Number of Cars', 'Owner Distribution')"
   ]
  },
  {
   "cell_type": "markdown",
   "id": "c922fa31",
   "metadata": {},
   "source": [
    "Most cars sold are first owner cars."
   ]
  },
  {
   "cell_type": "markdown",
   "id": "53ddbfde",
   "metadata": {},
   "source": [
    "### what is the distribution of Price?"
   ]
  },
  {
   "cell_type": "code",
   "execution_count": 38,
   "id": "d14c9d93",
   "metadata": {},
   "outputs": [
    {
     "data": {
      "text/plain": [
       "count       6717.0000\n",
       "mean      526385.9970\n",
       "std       523550.4483\n",
       "min        29999.0000\n",
       "25%       250000.0000\n",
       "50%       420000.0000\n",
       "75%       650000.0000\n",
       "max     10000000.0000\n",
       "Name: selling_price, dtype: float64"
      ]
     },
     "execution_count": 38,
     "metadata": {},
     "output_type": "execute_result"
    }
   ],
   "source": [
    "df_clean.selling_price.describe()"
   ]
  },
  {
   "cell_type": "code",
   "execution_count": 39,
   "id": "1e2ff740",
   "metadata": {},
   "outputs": [
    {
     "name": "stderr",
     "output_type": "stream",
     "text": [
      "/Users/salman/opt/anaconda3/envs/udacity/lib/python3.9/site-packages/seaborn/distributions.py:2619: FutureWarning: `distplot` is a deprecated function and will be removed in a future version. Please adapt your code to use either `displot` (a figure-level function with similar flexibility) or `histplot` (an axes-level function for histograms).\n",
      "  warnings.warn(msg, FutureWarning)\n"
     ]
    },
    {
     "data": {
      "image/png": "[encoded data removed]",
      "text/plain": [
       "<Figure size 720x432 with 1 Axes>"
      ]
     },
     "metadata": {
      "image/png": {
       "height": 387,
       "width": 618
      },
      "needs_background": "light"
     },
     "output_type": "display_data"
    }
   ],
   "source": [
    "#Set a larger figure size for the plot\n",
    "plt.figure(figsize=[10,6])\n",
    "#Plot the distplot of salary_in_usd\n",
    "sns.distplot(x = df_clean.selling_price, kde=False)\n",
    "x_y_t('Salary of Employees (USD)', 'Number of Jobs', 'Employees Salary')"
   ]
  },
  {
   "cell_type": "markdown",
   "id": "7d367247",
   "metadata": {},
   "source": [
    "## Observation\n",
    "<li> Most of the cars are diesel cars and petrol cars. \n",
    "<li> Most cars are sold by individuals.\n",
    "<li> Majority of the cars are manual transmission cars\n",
    "<li> Majority of cars sold are first owner cars"
   ]
  },
  {
   "cell_type": "markdown",
   "id": "20ec1d73",
   "metadata": {},
   "source": [
    "# Bivariate Exploration"
   ]
  },
  {
   "cell_type": "code",
   "execution_count": 40,
   "id": "0869168c",
   "metadata": {},
   "outputs": [
    {
     "data": {
      "text/html": [
       "<div>\n",
       "<style scoped>\n",
       "    .dataframe tbody tr th:only-of-type {\n",
       "        vertical-align: middle;\n",
       "    }\n",
       "\n",
       "    .dataframe tbody tr th {\n",
       "        vertical-align: top;\n",
       "    }\n",
       "\n",
       "    .dataframe thead th {\n",
       "        text-align: right;\n",
       "    }\n",
       "</style>\n",
       "<table border=\"1\" class=\"dataframe\">\n",
       "  <thead>\n",
       "    <tr style=\"text-align: right;\">\n",
       "      <th></th>\n",
       "      <th>name</th>\n",
       "      <th>year</th>\n",
       "      <th>selling_price</th>\n",
       "      <th>km_driven</th>\n",
       "      <th>fuel</th>\n",
       "      <th>seller_type</th>\n",
       "      <th>transmission</th>\n",
       "      <th>owner</th>\n",
       "      <th>mileage</th>\n",
       "      <th>engine</th>\n",
       "      <th>max_power</th>\n",
       "      <th>seats</th>\n",
       "    </tr>\n",
       "  </thead>\n",
       "  <tbody>\n",
       "    <tr>\n",
       "      <th>0</th>\n",
       "      <td>Maruti Swift Dzire</td>\n",
       "      <td>2014</td>\n",
       "      <td>450000</td>\n",
       "      <td>145500</td>\n",
       "      <td>Diesel</td>\n",
       "      <td>Individual</td>\n",
       "      <td>Manual</td>\n",
       "      <td>First Owner</td>\n",
       "      <td>23.4000</td>\n",
       "      <td>1248</td>\n",
       "      <td>74.0000</td>\n",
       "      <td>5.0000</td>\n",
       "    </tr>\n",
       "    <tr>\n",
       "      <th>1</th>\n",
       "      <td>Skoda Rapid 1.5</td>\n",
       "      <td>2014</td>\n",
       "      <td>370000</td>\n",
       "      <td>120000</td>\n",
       "      <td>Diesel</td>\n",
       "      <td>Individual</td>\n",
       "      <td>Manual</td>\n",
       "      <td>Second Owner</td>\n",
       "      <td>21.1400</td>\n",
       "      <td>1498</td>\n",
       "      <td>103.5200</td>\n",
       "      <td>5.0000</td>\n",
       "    </tr>\n",
       "    <tr>\n",
       "      <th>2</th>\n",
       "      <td>Honda City 2017-2020</td>\n",
       "      <td>2006</td>\n",
       "      <td>158000</td>\n",
       "      <td>140000</td>\n",
       "      <td>Petrol</td>\n",
       "      <td>Individual</td>\n",
       "      <td>Manual</td>\n",
       "      <td>Third Owner</td>\n",
       "      <td>17.7000</td>\n",
       "      <td>1497</td>\n",
       "      <td>78.0000</td>\n",
       "      <td>5.0000</td>\n",
       "    </tr>\n",
       "    <tr>\n",
       "      <th>3</th>\n",
       "      <td>Hyundai i20 Sportz</td>\n",
       "      <td>2010</td>\n",
       "      <td>225000</td>\n",
       "      <td>127000</td>\n",
       "      <td>Diesel</td>\n",
       "      <td>Individual</td>\n",
       "      <td>Manual</td>\n",
       "      <td>First Owner</td>\n",
       "      <td>23.0000</td>\n",
       "      <td>1396</td>\n",
       "      <td>90.0000</td>\n",
       "      <td>5.0000</td>\n",
       "    </tr>\n",
       "    <tr>\n",
       "      <th>4</th>\n",
       "      <td>Maruti Swift VXI</td>\n",
       "      <td>2007</td>\n",
       "      <td>130000</td>\n",
       "      <td>120000</td>\n",
       "      <td>Petrol</td>\n",
       "      <td>Individual</td>\n",
       "      <td>Manual</td>\n",
       "      <td>First Owner</td>\n",
       "      <td>16.1000</td>\n",
       "      <td>1298</td>\n",
       "      <td>88.2000</td>\n",
       "      <td>5.0000</td>\n",
       "    </tr>\n",
       "  </tbody>\n",
       "</table>\n",
       "</div>"
      ],
      "text/plain": [
       "                   name  year  selling_price  km_driven    fuel seller_type  \\\n",
       "0    Maruti Swift Dzire  2014         450000     145500  Diesel  Individual   \n",
       "1       Skoda Rapid 1.5  2014         370000     120000  Diesel  Individual   \n",
       "2  Honda City 2017-2020  2006         158000     140000  Petrol  Individual   \n",
       "3    Hyundai i20 Sportz  2010         225000     127000  Diesel  Individual   \n",
       "4      Maruti Swift VXI  2007         130000     120000  Petrol  Individual   \n",
       "\n",
       "  transmission         owner  mileage  engine  max_power  seats  \n",
       "0       Manual   First Owner  23.4000    1248    74.0000 5.0000  \n",
       "1       Manual  Second Owner  21.1400    1498   103.5200 5.0000  \n",
       "2       Manual   Third Owner  17.7000    1497    78.0000 5.0000  \n",
       "3       Manual   First Owner  23.0000    1396    90.0000 5.0000  \n",
       "4       Manual   First Owner  16.1000    1298    88.2000 5.0000  "
      ]
     },
     "execution_count": 40,
     "metadata": {},
     "output_type": "execute_result"
    }
   ],
   "source": [
    "df_clean.head()"
   ]
  },
  {
   "cell_type": "markdown",
   "id": "56a72f4d",
   "metadata": {},
   "source": [
    "## What is the relationship between Fuel and Price?"
   ]
  },
  {
   "cell_type": "code",
   "execution_count": 41,
   "id": "15892735",
   "metadata": {},
   "outputs": [
    {
     "data": {
      "image/png": "[encoded data removed]",
      "text/plain": [
       "<Figure size 720x432 with 1 Axes>"
      ]
     },
     "metadata": {
      "image/png": {
       "height": 387,
       "width": 631
      },
      "needs_background": "light"
     },
     "output_type": "display_data"
    }
   ],
   "source": [
    "#Set a larger figure size for the plot\n",
    "plt.figure(figsize=[10,6])\n",
    "\n",
    "# Get the indexes of the Series\n",
    "order = df_clean.fuel.value_counts().index\n",
    "# Plot the bar chart of `fuel` and 'selling_price'\n",
    "sns.barplot(data=df_clean, x='fuel', y='selling_price', color=color, order=order);\n",
    "#set the title and label\n",
    "x_y_t('Fuel Type', 'Price', 'Fuel Type Price')"
   ]
  },
  {
   "cell_type": "markdown",
   "id": "8f971f43",
   "metadata": {},
   "source": [
    "Cars that consume diesel are more expensive"
   ]
  },
  {
   "cell_type": "markdown",
   "id": "d435036e",
   "metadata": {},
   "source": [
    "## What is the relationship between Seller type and Price?"
   ]
  },
  {
   "cell_type": "code",
   "execution_count": 42,
   "id": "0bd18c03",
   "metadata": {},
   "outputs": [
    {
     "data": {
      "image/png": "[encoded data removed]",
      "text/plain": [
       "<Figure size 720x432 with 1 Axes>"
      ]
     },
     "metadata": {
      "image/png": {
       "height": 387,
       "width": 608
      },
      "needs_background": "light"
     },
     "output_type": "display_data"
    }
   ],
   "source": [
    "#Set a larger figure size for the plot\n",
    "plt.figure(figsize=[10,6])\n",
    "\n",
    "# Get the indexes of the Series\n",
    "order = df_clean.seller_type.value_counts().index\n",
    "# Plot the bar chart of `seller_type` and 'selling_price'\n",
    "sns.barplot(data=df_clean, x='seller_type', y='selling_price', color=color, order=order);\n",
    "#set the title and label\n",
    "x_y_t('Seller Type', 'Price', 'Seller Type Price')"
   ]
  },
  {
   "cell_type": "markdown",
   "id": "eccded9d",
   "metadata": {},
   "source": [
    "Dealers sells more cars"
   ]
  },
  {
   "cell_type": "markdown",
   "id": "0ac8cca8",
   "metadata": {},
   "source": [
    "## What is the relationship between Transmission and Price?"
   ]
  },
  {
   "cell_type": "code",
   "execution_count": 43,
   "id": "b446a4b5",
   "metadata": {},
   "outputs": [
    {
     "data": {
      "image/png": "[encoded data removed]",
      "text/plain": [
       "<Figure size 720x432 with 1 Axes>"
      ]
     },
     "metadata": {
      "image/png": {
       "height": 387,
       "width": 608
      },
      "needs_background": "light"
     },
     "output_type": "display_data"
    }
   ],
   "source": [
    "#Set a larger figure size for the plot\n",
    "plt.figure(figsize=[10,6])\n",
    "\n",
    "# Get the indexes of the Series\n",
    "order = df_clean.transmission.value_counts().index\n",
    "# Plot the bar chart of `transmission` and 'selling_price'\n",
    "sns.barplot(data=df_clean, x='transmission', y='selling_price', color=color, order=order);\n",
    "#set the title and label\n",
    "x_y_t('Transmission', 'Price', 'Transmission Price')"
   ]
  },
  {
   "cell_type": "markdown",
   "id": "3de2a082",
   "metadata": {},
   "source": [
    "Automatic cars sell more than Manual cars"
   ]
  },
  {
   "cell_type": "markdown",
   "id": "4e60f3a9",
   "metadata": {},
   "source": [
    "## What is the relationship between Owners and Price?"
   ]
  },
  {
   "cell_type": "code",
   "execution_count": 44,
   "id": "813210a9",
   "metadata": {},
   "outputs": [
    {
     "data": {
      "image/png": "[encoded data removed]",
      "text/plain": [
       "<Figure size 720x432 with 1 Axes>"
      ]
     },
     "metadata": {
      "image/png": {
       "height": 387,
       "width": 599
      },
      "needs_background": "light"
     },
     "output_type": "display_data"
    }
   ],
   "source": [
    "#Set a larger figure size for the plot\n",
    "plt.figure(figsize=[10,6])\n",
    "\n",
    "# Get the indexes of the Series\n",
    "order = df_clean.owner.value_counts().index\n",
    "# Plot the bar chart of `owner` and 'selling_price'\n",
    "sns.barplot(data=df_clean, x='owner', y='selling_price', color=color, order=order);\n",
    "#set the title and label\n",
    "x_y_t('Owners', 'Price', 'Owners Price')"
   ]
  },
  {
   "cell_type": "markdown",
   "id": "ad2d58c7",
   "metadata": {},
   "source": [
    "First owner cars cost more than second and third owners cars."
   ]
  },
  {
   "cell_type": "markdown",
   "id": "95fc6dd8",
   "metadata": {},
   "source": [
    "## What is the relationship between Transmission and Mileage?"
   ]
  },
  {
   "cell_type": "code",
   "execution_count": 48,
   "id": "e4f80b3d",
   "metadata": {},
   "outputs": [
    {
     "data": {
      "image/png": "[encoded data removed]",
      "text/plain": [
       "<Figure size 720x432 with 1 Axes>"
      ]
     },
     "metadata": {
      "image/png": {
       "height": 387,
       "width": 605
      },
      "needs_background": "light"
     },
     "output_type": "display_data"
    }
   ],
   "source": [
    "#Set a larger figure size for the plot\n",
    "plt.figure(figsize=[10,6])\n",
    "sns.boxplot(x='transmission', y='mileage', data=df_clean)\n",
    "#set the title and label\n",
    "x_y_t('Transmission', 'Mileage', 'Transmission Mileage')"
   ]
  },
  {
   "cell_type": "markdown",
   "id": "47523104",
   "metadata": {},
   "source": [
    "Manual cars have more mileage than Automatic cars but also have some outliers."
   ]
  },
  {
   "cell_type": "markdown",
   "id": "fd4f3218",
   "metadata": {},
   "source": [
    "## What is the relationship between Fuel and Power?"
   ]
  },
  {
   "cell_type": "code",
   "execution_count": 49,
   "id": "6f03a668",
   "metadata": {},
   "outputs": [
    {
     "data": {
      "image/png": "[encoded data removed]",
      "text/plain": [
       "<Figure size 720x432 with 1 Axes>"
      ]
     },
     "metadata": {
      "image/png": {
       "height": 387,
       "width": 612
      },
      "needs_background": "light"
     },
     "output_type": "display_data"
    }
   ],
   "source": [
    "#Set a larger figure size for the plot\n",
    "plt.figure(figsize=[10,6])\n",
    "\n",
    "# Get the indexes of the Series\n",
    "order = df_clean.fuel.value_counts().index\n",
    "# Plot the bar chart of `fuel` and 'max_power'\n",
    "sns.barplot(data=df_clean, x='fuel', y='max_power', color=color, order=order);\n",
    "#set the title and label\n",
    "x_y_t('Fuel', 'Power', 'Fuel Power')"
   ]
  },
  {
   "cell_type": "markdown",
   "id": "7bf1f511",
   "metadata": {},
   "source": [
    "Diesel produce more power than petrol, CNG and LPG"
   ]
  },
  {
   "cell_type": "markdown",
   "id": "6b1c7e61",
   "metadata": {},
   "source": [
    "## Observations\n",
    "<li> Diesel cars are sold more than any other cars\n",
    "<li> Dealers sells more cars than individuals. It makes sense since dealers have more access to customers than individuals\n",
    "<li> Automatic cars are sold more than Manual cars which makes sense since people prefer driving automatic cars.\n",
    "<li> First owners cars sells more than second and third since first owner are in better condition.\n",
    "<li> Manual cars have more mileage than automatic which means manual cars are driven to a long distance. Automatic cars are mostly driven in the city that’s why they have less mileage compare to manual cars.\n",
    "<li> Diesel cars produce more power than petrol and any other fuel type."
   ]
  },
  {
   "cell_type": "markdown",
   "id": "870ef4ed",
   "metadata": {},
   "source": [
    "# Multivariate Exploration"
   ]
  },
  {
   "cell_type": "code",
   "execution_count": 50,
   "id": "2773efe7",
   "metadata": {},
   "outputs": [
    {
     "data": {
      "text/html": [
       "<div>\n",
       "<style scoped>\n",
       "    .dataframe tbody tr th:only-of-type {\n",
       "        vertical-align: middle;\n",
       "    }\n",
       "\n",
       "    .dataframe tbody tr th {\n",
       "        vertical-align: top;\n",
       "    }\n",
       "\n",
       "    .dataframe thead th {\n",
       "        text-align: right;\n",
       "    }\n",
       "</style>\n",
       "<table border=\"1\" class=\"dataframe\">\n",
       "  <thead>\n",
       "    <tr style=\"text-align: right;\">\n",
       "      <th></th>\n",
       "      <th>name</th>\n",
       "      <th>year</th>\n",
       "      <th>selling_price</th>\n",
       "      <th>km_driven</th>\n",
       "      <th>fuel</th>\n",
       "      <th>seller_type</th>\n",
       "      <th>transmission</th>\n",
       "      <th>owner</th>\n",
       "      <th>mileage</th>\n",
       "      <th>engine</th>\n",
       "      <th>max_power</th>\n",
       "      <th>seats</th>\n",
       "    </tr>\n",
       "  </thead>\n",
       "  <tbody>\n",
       "    <tr>\n",
       "      <th>0</th>\n",
       "      <td>Maruti Swift Dzire</td>\n",
       "      <td>2014</td>\n",
       "      <td>450000</td>\n",
       "      <td>145500</td>\n",
       "      <td>Diesel</td>\n",
       "      <td>Individual</td>\n",
       "      <td>Manual</td>\n",
       "      <td>First Owner</td>\n",
       "      <td>23.4000</td>\n",
       "      <td>1248</td>\n",
       "      <td>74.0000</td>\n",
       "      <td>5.0000</td>\n",
       "    </tr>\n",
       "    <tr>\n",
       "      <th>1</th>\n",
       "      <td>Skoda Rapid 1.5</td>\n",
       "      <td>2014</td>\n",
       "      <td>370000</td>\n",
       "      <td>120000</td>\n",
       "      <td>Diesel</td>\n",
       "      <td>Individual</td>\n",
       "      <td>Manual</td>\n",
       "      <td>Second Owner</td>\n",
       "      <td>21.1400</td>\n",
       "      <td>1498</td>\n",
       "      <td>103.5200</td>\n",
       "      <td>5.0000</td>\n",
       "    </tr>\n",
       "    <tr>\n",
       "      <th>2</th>\n",
       "      <td>Honda City 2017-2020</td>\n",
       "      <td>2006</td>\n",
       "      <td>158000</td>\n",
       "      <td>140000</td>\n",
       "      <td>Petrol</td>\n",
       "      <td>Individual</td>\n",
       "      <td>Manual</td>\n",
       "      <td>Third Owner</td>\n",
       "      <td>17.7000</td>\n",
       "      <td>1497</td>\n",
       "      <td>78.0000</td>\n",
       "      <td>5.0000</td>\n",
       "    </tr>\n",
       "    <tr>\n",
       "      <th>3</th>\n",
       "      <td>Hyundai i20 Sportz</td>\n",
       "      <td>2010</td>\n",
       "      <td>225000</td>\n",
       "      <td>127000</td>\n",
       "      <td>Diesel</td>\n",
       "      <td>Individual</td>\n",
       "      <td>Manual</td>\n",
       "      <td>First Owner</td>\n",
       "      <td>23.0000</td>\n",
       "      <td>1396</td>\n",
       "      <td>90.0000</td>\n",
       "      <td>5.0000</td>\n",
       "    </tr>\n",
       "    <tr>\n",
       "      <th>4</th>\n",
       "      <td>Maruti Swift VXI</td>\n",
       "      <td>2007</td>\n",
       "      <td>130000</td>\n",
       "      <td>120000</td>\n",
       "      <td>Petrol</td>\n",
       "      <td>Individual</td>\n",
       "      <td>Manual</td>\n",
       "      <td>First Owner</td>\n",
       "      <td>16.1000</td>\n",
       "      <td>1298</td>\n",
       "      <td>88.2000</td>\n",
       "      <td>5.0000</td>\n",
       "    </tr>\n",
       "  </tbody>\n",
       "</table>\n",
       "</div>"
      ],
      "text/plain": [
       "                   name  year  selling_price  km_driven    fuel seller_type  \\\n",
       "0    Maruti Swift Dzire  2014         450000     145500  Diesel  Individual   \n",
       "1       Skoda Rapid 1.5  2014         370000     120000  Diesel  Individual   \n",
       "2  Honda City 2017-2020  2006         158000     140000  Petrol  Individual   \n",
       "3    Hyundai i20 Sportz  2010         225000     127000  Diesel  Individual   \n",
       "4      Maruti Swift VXI  2007         130000     120000  Petrol  Individual   \n",
       "\n",
       "  transmission         owner  mileage  engine  max_power  seats  \n",
       "0       Manual   First Owner  23.4000    1248    74.0000 5.0000  \n",
       "1       Manual  Second Owner  21.1400    1498   103.5200 5.0000  \n",
       "2       Manual   Third Owner  17.7000    1497    78.0000 5.0000  \n",
       "3       Manual   First Owner  23.0000    1396    90.0000 5.0000  \n",
       "4       Manual   First Owner  16.1000    1298    88.2000 5.0000  "
      ]
     },
     "execution_count": 50,
     "metadata": {},
     "output_type": "execute_result"
    }
   ],
   "source": [
    "df_clean.head()"
   ]
  },
  {
   "cell_type": "code",
   "execution_count": 52,
   "id": "89e9ea27",
   "metadata": {},
   "outputs": [
    {
     "data": {
      "image/png": "[encoded data removed]",
      "text/plain": [
       "<Figure size 720x432 with 1 Axes>"
      ]
     },
     "metadata": {
      "image/png": {
       "height": 387,
       "width": 615
      },
      "needs_background": "light"
     },
     "output_type": "display_data"
    }
   ],
   "source": [
    "#Set a larger figure size for the plot\n",
    "plt.figure(figsize=[10,6])\n",
    "\n",
    "# Get the indexes of the Series\n",
    "order = df_clean.seller_type.value_counts().index\n",
    "# Plot the bar chart of `seller_type` and 'selling_price'\n",
    "sns.barplot(data=df_clean, x='seller_type', y='selling_price', hue= 'transmission', color=color, order=order);\n",
    "#set the title and label\n",
    "x_y_t('Seller Type', 'Price', 'Seller Type Price by Transmission')"
   ]
  },
  {
   "cell_type": "markdown",
   "id": "d1f1d5df",
   "metadata": {},
   "source": [
    "Dealers sells more automatic cars."
   ]
  },
  {
   "cell_type": "markdown",
   "id": "50f70d64",
   "metadata": {},
   "source": [
    "# Observations.\n",
    "<li> Dealers and Individuals sells automatic cars than maunual cars."
   ]
  },
  {
   "cell_type": "markdown",
   "id": "dbede56c",
   "metadata": {},
   "source": [
    "# Linear Regression"
   ]
  },
  {
   "cell_type": "code",
   "execution_count": 56,
   "id": "77a6ab5e",
   "metadata": {},
   "outputs": [
    {
     "name": "stdout",
     "output_type": "stream",
     "text": [
      "<class 'pandas.core.frame.DataFrame'>\n",
      "Int64Index: 6717 entries, 0 to 8125\n",
      "Data columns (total 12 columns):\n",
      " #   Column         Non-Null Count  Dtype   \n",
      "---  ------         --------------  -----   \n",
      " 0   name           6717 non-null   object  \n",
      " 1   year           6717 non-null   int64   \n",
      " 2   selling_price  6717 non-null   int64   \n",
      " 3   km_driven      6717 non-null   int64   \n",
      " 4   fuel           6717 non-null   category\n",
      " 5   seller_type    6717 non-null   category\n",
      " 6   transmission   6717 non-null   category\n",
      " 7   owner          6717 non-null   category\n",
      " 8   mileage        6717 non-null   float64 \n",
      " 9   engine         6717 non-null   int64   \n",
      " 10  max_power      6717 non-null   float64 \n",
      " 11  seats          6717 non-null   float64 \n",
      "dtypes: category(4), float64(3), int64(4), object(1)\n",
      "memory usage: 499.2+ KB\n"
     ]
    }
   ],
   "source": [
    "df_clean.info()"
   ]
  },
  {
   "cell_type": "code",
   "execution_count": 90,
   "id": "45248100",
   "metadata": {},
   "outputs": [],
   "source": [
    "df_clean_cat = df_clean[['name','fuel','seller_type','transmission', 'owner']]"
   ]
  },
  {
   "cell_type": "markdown",
   "id": "fedd7293",
   "metadata": {},
   "source": [
    "### Convert Categorical Columns into One-hot Vectors"
   ]
  },
  {
   "cell_type": "code",
   "execution_count": 91,
   "id": "aec1ea19",
   "metadata": {},
   "outputs": [],
   "source": [
    "from sklearn.preprocessing import OneHotEncoder"
   ]
  },
  {
   "cell_type": "code",
   "execution_count": 92,
   "id": "d8fa70d2",
   "metadata": {},
   "outputs": [],
   "source": [
    "hot_encoder = OneHotEncoder()"
   ]
  },
  {
   "cell_type": "code",
   "execution_count": 93,
   "id": "4a9b1144",
   "metadata": {},
   "outputs": [],
   "source": [
    "df_clean_1hot = hot_encoder.fit_transform(df_clean_cat)"
   ]
  },
  {
   "cell_type": "code",
   "execution_count": 94,
   "id": "8312f5d7",
   "metadata": {},
   "outputs": [
    {
     "data": {
      "text/plain": [
       "<6717x678 sparse matrix of type '<class 'numpy.float64'>'\n",
       "\twith 33585 stored elements in Compressed Sparse Row format>"
      ]
     },
     "execution_count": 94,
     "metadata": {},
     "output_type": "execute_result"
    }
   ],
   "source": [
    "df_clean_1hot"
   ]
  },
  {
   "cell_type": "markdown",
   "id": "cfdceaee",
   "metadata": {},
   "source": [
    "## Split the Dataset"
   ]
  },
  {
   "cell_type": "code",
   "execution_count": 95,
   "id": "351e42b4",
   "metadata": {},
   "outputs": [],
   "source": [
    "X = df_clean_1hot\n",
    "y = df_clean['selling_price']"
   ]
  },
  {
   "cell_type": "code",
   "execution_count": 96,
   "id": "7fb1541c",
   "metadata": {},
   "outputs": [],
   "source": [
    "from sklearn.model_selection import train_test_split"
   ]
  },
  {
   "cell_type": "code",
   "execution_count": 97,
   "id": "4d44c1d3",
   "metadata": {},
   "outputs": [],
   "source": [
    " X_train, X_test, y_train, y_test = train_test_split(X, y, test_size=0.2, random_state=42)"
   ]
  },
  {
   "cell_type": "markdown",
   "id": "79ee284d",
   "metadata": {},
   "source": [
    "## Training the Model"
   ]
  },
  {
   "cell_type": "code",
   "execution_count": 98,
   "id": "784314f4",
   "metadata": {},
   "outputs": [],
   "source": [
    "from sklearn.linear_model import LinearRegression"
   ]
  },
  {
   "cell_type": "code",
   "execution_count": 99,
   "id": "fa670923",
   "metadata": {},
   "outputs": [],
   "source": [
    "lin_reg = LinearRegression()"
   ]
  },
  {
   "cell_type": "code",
   "execution_count": 100,
   "id": "e4c41cc9",
   "metadata": {},
   "outputs": [
    {
     "data": {
      "text/html": [
       "<style>#sk-container-id-4 {color: black;background-color: white;}#sk-container-id-4 pre{padding: 0;}#sk-container-id-4 div.sk-toggleable {background-color: white;}#sk-container-id-4 label.sk-toggleable__label {cursor: pointer;display: block;width: 100%;margin-bottom: 0;padding: 0.3em;box-sizing: border-box;text-align: center;}#sk-container-id-4 label.sk-toggleable__label-arrow:before {content: \"▸\";float: left;margin-right: 0.25em;color: #696969;}#sk-container-id-4 label.sk-toggleable__label-arrow:hover:before {color: black;}#sk-container-id-4 div.sk-estimator:hover label.sk-toggleable__label-arrow:before {color: black;}#sk-container-id-4 div.sk-toggleable__content {max-height: 0;max-width: 0;overflow: hidden;text-align: left;background-color: #f0f8ff;}#sk-container-id-4 div.sk-toggleable__content pre {margin: 0.2em;color: black;border-radius: 0.25em;background-color: #f0f8ff;}#sk-container-id-4 input.sk-toggleable__control:checked~div.sk-toggleable__content {max-height: 200px;max-width: 100%;overflow: auto;}#sk-container-id-4 input.sk-toggleable__control:checked~label.sk-toggleable__label-arrow:before {content: \"▾\";}#sk-container-id-4 div.sk-estimator input.sk-toggleable__control:checked~label.sk-toggleable__label {background-color: #d4ebff;}#sk-container-id-4 div.sk-label input.sk-toggleable__control:checked~label.sk-toggleable__label {background-color: #d4ebff;}#sk-container-id-4 input.sk-hidden--visually {border: 0;clip: rect(1px 1px 1px 1px);clip: rect(1px, 1px, 1px, 1px);height: 1px;margin: -1px;overflow: hidden;padding: 0;position: absolute;width: 1px;}#sk-container-id-4 div.sk-estimator {font-family: monospace;background-color: #f0f8ff;border: 1px dotted black;border-radius: 0.25em;box-sizing: border-box;margin-bottom: 0.5em;}#sk-container-id-4 div.sk-estimator:hover {background-color: #d4ebff;}#sk-container-id-4 div.sk-parallel-item::after {content: \"\";width: 100%;border-bottom: 1px solid gray;flex-grow: 1;}#sk-container-id-4 div.sk-label:hover label.sk-toggleable__label {background-color: #d4ebff;}#sk-container-id-4 div.sk-serial::before {content: \"\";position: absolute;border-left: 1px solid gray;box-sizing: border-box;top: 0;bottom: 0;left: 50%;z-index: 0;}#sk-container-id-4 div.sk-serial {display: flex;flex-direction: column;align-items: center;background-color: white;padding-right: 0.2em;padding-left: 0.2em;position: relative;}#sk-container-id-4 div.sk-item {position: relative;z-index: 1;}#sk-container-id-4 div.sk-parallel {display: flex;align-items: stretch;justify-content: center;background-color: white;position: relative;}#sk-container-id-4 div.sk-item::before, #sk-container-id-4 div.sk-parallel-item::before {content: \"\";position: absolute;border-left: 1px solid gray;box-sizing: border-box;top: 0;bottom: 0;left: 50%;z-index: -1;}#sk-container-id-4 div.sk-parallel-item {display: flex;flex-direction: column;z-index: 1;position: relative;background-color: white;}#sk-container-id-4 div.sk-parallel-item:first-child::after {align-self: flex-end;width: 50%;}#sk-container-id-4 div.sk-parallel-item:last-child::after {align-self: flex-start;width: 50%;}#sk-container-id-4 div.sk-parallel-item:only-child::after {width: 0;}#sk-container-id-4 div.sk-dashed-wrapped {border: 1px dashed gray;margin: 0 0.4em 0.5em 0.4em;box-sizing: border-box;padding-bottom: 0.4em;background-color: white;}#sk-container-id-4 div.sk-label label {font-family: monospace;font-weight: bold;display: inline-block;line-height: 1.2em;}#sk-container-id-4 div.sk-label-container {text-align: center;}#sk-container-id-4 div.sk-container {/* jupyter's `normalize.less` sets `[hidden] { display: none; }` but bootstrap.min.css set `[hidden] { display: none !important; }` so we also need the `!important` here to be able to override the default hidden behavior on the sphinx rendered scikit-learn.org. See: https://github.com/scikit-learn/scikit-learn/issues/21755 */display: inline-block !important;position: relative;}#sk-container-id-4 div.sk-text-repr-fallback {display: none;}</style><div id=\"sk-container-id-4\" class=\"sk-top-container\"><div class=\"sk-text-repr-fallback\"><pre>LinearRegression()</pre><b>In a Jupyter environment, please rerun this cell to show the HTML representation or trust the notebook. <br />On GitHub, the HTML representation is unable to render, please try loading this page with nbviewer.org.</b></div><div class=\"sk-container\" hidden><div class=\"sk-item\"><div class=\"sk-estimator sk-toggleable\"><input class=\"sk-toggleable__control sk-hidden--visually\" id=\"sk-estimator-id-4\" type=\"checkbox\" checked><label for=\"sk-estimator-id-4\" class=\"sk-toggleable__label sk-toggleable__label-arrow\">LinearRegression</label><div class=\"sk-toggleable__content\"><pre>LinearRegression()</pre></div></div></div></div></div>"
      ],
      "text/plain": [
       "LinearRegression()"
      ]
     },
     "execution_count": 100,
     "metadata": {},
     "output_type": "execute_result"
    }
   ],
   "source": [
    "lin_reg.fit(X_train,y_train)"
   ]
  },
  {
   "cell_type": "markdown",
   "id": "1dc9b7aa",
   "metadata": {},
   "source": [
    "## Predicting the Test Data"
   ]
  },
  {
   "cell_type": "code",
   "execution_count": 101,
   "id": "3834f4aa",
   "metadata": {},
   "outputs": [],
   "source": [
    "predictions = lin_reg.predict(X_test)"
   ]
  },
  {
   "cell_type": "markdown",
   "id": "c290c08c",
   "metadata": {},
   "source": [
    "### Create a scatterplot of the real test values versus the predicted values"
   ]
  },
  {
   "cell_type": "code",
   "execution_count": 102,
   "id": "1ed324e8",
   "metadata": {},
   "outputs": [
    {
     "data": {
      "text/plain": [
       "<matplotlib.collections.PathCollection at 0x7fe3a2a71370>"
      ]
     },
     "execution_count": 102,
     "metadata": {},
     "output_type": "execute_result"
    },
    {
     "data": {
      "image/png": "[encoded data removed]",
      "text/plain": [
       "<Figure size 432x288 with 1 Axes>"
      ]
     },
     "metadata": {
      "image/png": {
       "height": 271,
       "width": 362
      },
      "needs_background": "light"
     },
     "output_type": "display_data"
    }
   ],
   "source": [
    "plt.scatter(y_test,predictions)"
   ]
  },
  {
   "cell_type": "code",
   "execution_count": 103,
   "id": "3b918855",
   "metadata": {},
   "outputs": [
    {
     "name": "stdout",
     "output_type": "stream",
     "text": [
      "Predictions:  [555227.90474709 794368.82514811 144183.5476326  ... 322857.94412289\n",
      " 942932.99626205 329036.57630147]\n"
     ]
    }
   ],
   "source": [
    "print(\"Predictions: \", predictions)"
   ]
  },
  {
   "cell_type": "markdown",
   "id": "105926db",
   "metadata": {},
   "source": [
    "## Evaluating the Model"
   ]
  },
  {
   "cell_type": "code",
   "execution_count": 104,
   "id": "716fdc5d",
   "metadata": {},
   "outputs": [],
   "source": [
    "from sklearn import metrics"
   ]
  },
  {
   "cell_type": "code",
   "execution_count": 105,
   "id": "b746c9ad",
   "metadata": {},
   "outputs": [
    {
     "name": "stdout",
     "output_type": "stream",
     "text": [
      "MAE  121847.88245068149\n",
      "MSE  44047133858.973236\n",
      "RMSE  209874.09048992503\n"
     ]
    }
   ],
   "source": [
    "print('MAE ', metrics.mean_absolute_error(y_test,predictions))\n",
    "print('MSE ', metrics.mean_squared_error(y_test,predictions))\n",
    "print('RMSE ', np.sqrt(metrics.mean_squared_error(y_test, predictions)))"
   ]
  },
  {
   "cell_type": "markdown",
   "id": "e1f15c03",
   "metadata": {},
   "source": [
    "# Decision Tree Regression"
   ]
  },
  {
   "cell_type": "code",
   "execution_count": 106,
   "id": "561ff892",
   "metadata": {},
   "outputs": [],
   "source": [
    "from sklearn.tree import DecisionTreeRegressor"
   ]
  },
  {
   "cell_type": "markdown",
   "id": "f63f144a",
   "metadata": {},
   "source": [
    "## Training the Model"
   ]
  },
  {
   "cell_type": "code",
   "execution_count": 107,
   "id": "4e64ccc1",
   "metadata": {},
   "outputs": [],
   "source": [
    "tree_reg = DecisionTreeRegressor()"
   ]
  },
  {
   "cell_type": "code",
   "execution_count": 108,
   "id": "c9c62ddd",
   "metadata": {},
   "outputs": [
    {
     "data": {
      "text/html": [
       "<style>#sk-container-id-5 {color: black;background-color: white;}#sk-container-id-5 pre{padding: 0;}#sk-container-id-5 div.sk-toggleable {background-color: white;}#sk-container-id-5 label.sk-toggleable__label {cursor: pointer;display: block;width: 100%;margin-bottom: 0;padding: 0.3em;box-sizing: border-box;text-align: center;}#sk-container-id-5 label.sk-toggleable__label-arrow:before {content: \"▸\";float: left;margin-right: 0.25em;color: #696969;}#sk-container-id-5 label.sk-toggleable__label-arrow:hover:before {color: black;}#sk-container-id-5 div.sk-estimator:hover label.sk-toggleable__label-arrow:before {color: black;}#sk-container-id-5 div.sk-toggleable__content {max-height: 0;max-width: 0;overflow: hidden;text-align: left;background-color: #f0f8ff;}#sk-container-id-5 div.sk-toggleable__content pre {margin: 0.2em;color: black;border-radius: 0.25em;background-color: #f0f8ff;}#sk-container-id-5 input.sk-toggleable__control:checked~div.sk-toggleable__content {max-height: 200px;max-width: 100%;overflow: auto;}#sk-container-id-5 input.sk-toggleable__control:checked~label.sk-toggleable__label-arrow:before {content: \"▾\";}#sk-container-id-5 div.sk-estimator input.sk-toggleable__control:checked~label.sk-toggleable__label {background-color: #d4ebff;}#sk-container-id-5 div.sk-label input.sk-toggleable__control:checked~label.sk-toggleable__label {background-color: #d4ebff;}#sk-container-id-5 input.sk-hidden--visually {border: 0;clip: rect(1px 1px 1px 1px);clip: rect(1px, 1px, 1px, 1px);height: 1px;margin: -1px;overflow: hidden;padding: 0;position: absolute;width: 1px;}#sk-container-id-5 div.sk-estimator {font-family: monospace;background-color: #f0f8ff;border: 1px dotted black;border-radius: 0.25em;box-sizing: border-box;margin-bottom: 0.5em;}#sk-container-id-5 div.sk-estimator:hover {background-color: #d4ebff;}#sk-container-id-5 div.sk-parallel-item::after {content: \"\";width: 100%;border-bottom: 1px solid gray;flex-grow: 1;}#sk-container-id-5 div.sk-label:hover label.sk-toggleable__label {background-color: #d4ebff;}#sk-container-id-5 div.sk-serial::before {content: \"\";position: absolute;border-left: 1px solid gray;box-sizing: border-box;top: 0;bottom: 0;left: 50%;z-index: 0;}#sk-container-id-5 div.sk-serial {display: flex;flex-direction: column;align-items: center;background-color: white;padding-right: 0.2em;padding-left: 0.2em;position: relative;}#sk-container-id-5 div.sk-item {position: relative;z-index: 1;}#sk-container-id-5 div.sk-parallel {display: flex;align-items: stretch;justify-content: center;background-color: white;position: relative;}#sk-container-id-5 div.sk-item::before, #sk-container-id-5 div.sk-parallel-item::before {content: \"\";position: absolute;border-left: 1px solid gray;box-sizing: border-box;top: 0;bottom: 0;left: 50%;z-index: -1;}#sk-container-id-5 div.sk-parallel-item {display: flex;flex-direction: column;z-index: 1;position: relative;background-color: white;}#sk-container-id-5 div.sk-parallel-item:first-child::after {align-self: flex-end;width: 50%;}#sk-container-id-5 div.sk-parallel-item:last-child::after {align-self: flex-start;width: 50%;}#sk-container-id-5 div.sk-parallel-item:only-child::after {width: 0;}#sk-container-id-5 div.sk-dashed-wrapped {border: 1px dashed gray;margin: 0 0.4em 0.5em 0.4em;box-sizing: border-box;padding-bottom: 0.4em;background-color: white;}#sk-container-id-5 div.sk-label label {font-family: monospace;font-weight: bold;display: inline-block;line-height: 1.2em;}#sk-container-id-5 div.sk-label-container {text-align: center;}#sk-container-id-5 div.sk-container {/* jupyter's `normalize.less` sets `[hidden] { display: none; }` but bootstrap.min.css set `[hidden] { display: none !important; }` so we also need the `!important` here to be able to override the default hidden behavior on the sphinx rendered scikit-learn.org. See: https://github.com/scikit-learn/scikit-learn/issues/21755 */display: inline-block !important;position: relative;}#sk-container-id-5 div.sk-text-repr-fallback {display: none;}</style><div id=\"sk-container-id-5\" class=\"sk-top-container\"><div class=\"sk-text-repr-fallback\"><pre>DecisionTreeRegressor()</pre><b>In a Jupyter environment, please rerun this cell to show the HTML representation or trust the notebook. <br />On GitHub, the HTML representation is unable to render, please try loading this page with nbviewer.org.</b></div><div class=\"sk-container\" hidden><div class=\"sk-item\"><div class=\"sk-estimator sk-toggleable\"><input class=\"sk-toggleable__control sk-hidden--visually\" id=\"sk-estimator-id-5\" type=\"checkbox\" checked><label for=\"sk-estimator-id-5\" class=\"sk-toggleable__label sk-toggleable__label-arrow\">DecisionTreeRegressor</label><div class=\"sk-toggleable__content\"><pre>DecisionTreeRegressor()</pre></div></div></div></div></div>"
      ],
      "text/plain": [
       "DecisionTreeRegressor()"
      ]
     },
     "execution_count": 108,
     "metadata": {},
     "output_type": "execute_result"
    }
   ],
   "source": [
    "tree_reg.fit(X_train,y_train)"
   ]
  },
  {
   "cell_type": "markdown",
   "id": "b5401fe5",
   "metadata": {},
   "source": [
    "## Predicting the Model"
   ]
  },
  {
   "cell_type": "code",
   "execution_count": 109,
   "id": "9b7f7feb",
   "metadata": {},
   "outputs": [],
   "source": [
    "tree_predictions = tree_reg.predict(X_test)"
   ]
  },
  {
   "cell_type": "code",
   "execution_count": 110,
   "id": "24321c35",
   "metadata": {},
   "outputs": [
    {
     "data": {
      "text/plain": [
       "<matplotlib.collections.PathCollection at 0x7fe3a29708b0>"
      ]
     },
     "execution_count": 110,
     "metadata": {},
     "output_type": "execute_result"
    },
    {
     "data": {
      "image/png": "[encoded data removed]",
      "text/plain": [
       "<Figure size 432x288 with 1 Axes>"
      ]
     },
     "metadata": {
      "image/png": {
       "height": 271,
       "width": 362
      },
      "needs_background": "light"
     },
     "output_type": "display_data"
    }
   ],
   "source": [
    "plt.scatter(y_test, tree_predictions)"
   ]
  },
  {
   "cell_type": "markdown",
   "id": "da1c8876",
   "metadata": {},
   "source": [
    "## Evaluating the Model"
   ]
  },
  {
   "cell_type": "code",
   "execution_count": 111,
   "id": "caf3988d",
   "metadata": {},
   "outputs": [
    {
     "name": "stdout",
     "output_type": "stream",
     "text": [
      "MAE  120638.9652372807\n",
      "MSE  51231190612.48515\n",
      "RMSE  226343.08165368155\n"
     ]
    }
   ],
   "source": [
    "print('MAE ', metrics.mean_absolute_error(y_test,tree_predictions))\n",
    "print('MSE ', metrics.mean_squared_error(y_test,tree_predictions))\n",
    "print('RMSE ', np.sqrt(metrics.mean_squared_error(y_test, tree_predictions)))"
   ]
  },
  {
   "cell_type": "markdown",
   "id": "fce9fd70",
   "metadata": {},
   "source": [
    "# Random Forest Regression"
   ]
  },
  {
   "cell_type": "code",
   "execution_count": 112,
   "id": "7b001ea1",
   "metadata": {},
   "outputs": [],
   "source": [
    "from sklearn.ensemble import RandomForestRegressor"
   ]
  },
  {
   "cell_type": "markdown",
   "id": "b4dfdf91",
   "metadata": {},
   "source": [
    "## Training the Model"
   ]
  },
  {
   "cell_type": "code",
   "execution_count": 113,
   "id": "a40fb5dd",
   "metadata": {},
   "outputs": [],
   "source": [
    "forest_reg = RandomForestRegressor()"
   ]
  },
  {
   "cell_type": "code",
   "execution_count": 114,
   "id": "4ef9ef69",
   "metadata": {},
   "outputs": [
    {
     "data": {
      "text/html": [
       "<style>#sk-container-id-6 {color: black;background-color: white;}#sk-container-id-6 pre{padding: 0;}#sk-container-id-6 div.sk-toggleable {background-color: white;}#sk-container-id-6 label.sk-toggleable__label {cursor: pointer;display: block;width: 100%;margin-bottom: 0;padding: 0.3em;box-sizing: border-box;text-align: center;}#sk-container-id-6 label.sk-toggleable__label-arrow:before {content: \"▸\";float: left;margin-right: 0.25em;color: #696969;}#sk-container-id-6 label.sk-toggleable__label-arrow:hover:before {color: black;}#sk-container-id-6 div.sk-estimator:hover label.sk-toggleable__label-arrow:before {color: black;}#sk-container-id-6 div.sk-toggleable__content {max-height: 0;max-width: 0;overflow: hidden;text-align: left;background-color: #f0f8ff;}#sk-container-id-6 div.sk-toggleable__content pre {margin: 0.2em;color: black;border-radius: 0.25em;background-color: #f0f8ff;}#sk-container-id-6 input.sk-toggleable__control:checked~div.sk-toggleable__content {max-height: 200px;max-width: 100%;overflow: auto;}#sk-container-id-6 input.sk-toggleable__control:checked~label.sk-toggleable__label-arrow:before {content: \"▾\";}#sk-container-id-6 div.sk-estimator input.sk-toggleable__control:checked~label.sk-toggleable__label {background-color: #d4ebff;}#sk-container-id-6 div.sk-label input.sk-toggleable__control:checked~label.sk-toggleable__label {background-color: #d4ebff;}#sk-container-id-6 input.sk-hidden--visually {border: 0;clip: rect(1px 1px 1px 1px);clip: rect(1px, 1px, 1px, 1px);height: 1px;margin: -1px;overflow: hidden;padding: 0;position: absolute;width: 1px;}#sk-container-id-6 div.sk-estimator {font-family: monospace;background-color: #f0f8ff;border: 1px dotted black;border-radius: 0.25em;box-sizing: border-box;margin-bottom: 0.5em;}#sk-container-id-6 div.sk-estimator:hover {background-color: #d4ebff;}#sk-container-id-6 div.sk-parallel-item::after {content: \"\";width: 100%;border-bottom: 1px solid gray;flex-grow: 1;}#sk-container-id-6 div.sk-label:hover label.sk-toggleable__label {background-color: #d4ebff;}#sk-container-id-6 div.sk-serial::before {content: \"\";position: absolute;border-left: 1px solid gray;box-sizing: border-box;top: 0;bottom: 0;left: 50%;z-index: 0;}#sk-container-id-6 div.sk-serial {display: flex;flex-direction: column;align-items: center;background-color: white;padding-right: 0.2em;padding-left: 0.2em;position: relative;}#sk-container-id-6 div.sk-item {position: relative;z-index: 1;}#sk-container-id-6 div.sk-parallel {display: flex;align-items: stretch;justify-content: center;background-color: white;position: relative;}#sk-container-id-6 div.sk-item::before, #sk-container-id-6 div.sk-parallel-item::before {content: \"\";position: absolute;border-left: 1px solid gray;box-sizing: border-box;top: 0;bottom: 0;left: 50%;z-index: -1;}#sk-container-id-6 div.sk-parallel-item {display: flex;flex-direction: column;z-index: 1;position: relative;background-color: white;}#sk-container-id-6 div.sk-parallel-item:first-child::after {align-self: flex-end;width: 50%;}#sk-container-id-6 div.sk-parallel-item:last-child::after {align-self: flex-start;width: 50%;}#sk-container-id-6 div.sk-parallel-item:only-child::after {width: 0;}#sk-container-id-6 div.sk-dashed-wrapped {border: 1px dashed gray;margin: 0 0.4em 0.5em 0.4em;box-sizing: border-box;padding-bottom: 0.4em;background-color: white;}#sk-container-id-6 div.sk-label label {font-family: monospace;font-weight: bold;display: inline-block;line-height: 1.2em;}#sk-container-id-6 div.sk-label-container {text-align: center;}#sk-container-id-6 div.sk-container {/* jupyter's `normalize.less` sets `[hidden] { display: none; }` but bootstrap.min.css set `[hidden] { display: none !important; }` so we also need the `!important` here to be able to override the default hidden behavior on the sphinx rendered scikit-learn.org. See: https://github.com/scikit-learn/scikit-learn/issues/21755 */display: inline-block !important;position: relative;}#sk-container-id-6 div.sk-text-repr-fallback {display: none;}</style><div id=\"sk-container-id-6\" class=\"sk-top-container\"><div class=\"sk-text-repr-fallback\"><pre>RandomForestRegressor()</pre><b>In a Jupyter environment, please rerun this cell to show the HTML representation or trust the notebook. <br />On GitHub, the HTML representation is unable to render, please try loading this page with nbviewer.org.</b></div><div class=\"sk-container\" hidden><div class=\"sk-item\"><div class=\"sk-estimator sk-toggleable\"><input class=\"sk-toggleable__control sk-hidden--visually\" id=\"sk-estimator-id-6\" type=\"checkbox\" checked><label for=\"sk-estimator-id-6\" class=\"sk-toggleable__label sk-toggleable__label-arrow\">RandomForestRegressor</label><div class=\"sk-toggleable__content\"><pre>RandomForestRegressor()</pre></div></div></div></div></div>"
      ],
      "text/plain": [
       "RandomForestRegressor()"
      ]
     },
     "execution_count": 114,
     "metadata": {},
     "output_type": "execute_result"
    }
   ],
   "source": [
    "forest_reg.fit(X_train,y_train)"
   ]
  },
  {
   "cell_type": "markdown",
   "id": "970263c4",
   "metadata": {},
   "source": [
    "## Predicting the Model"
   ]
  },
  {
   "cell_type": "code",
   "execution_count": 115,
   "id": "31f7bd5c",
   "metadata": {},
   "outputs": [],
   "source": [
    "forest_reg_pred = forest_reg.predict(X_test)"
   ]
  },
  {
   "cell_type": "code",
   "execution_count": 116,
   "id": "2dc39409",
   "metadata": {},
   "outputs": [
    {
     "data": {
      "text/plain": [
       "<matplotlib.collections.PathCollection at 0x7fe3a2532df0>"
      ]
     },
     "execution_count": 116,
     "metadata": {},
     "output_type": "execute_result"
    },
    {
     "data": {
      "image/png": "[encoded data removed]",
      "text/plain": [
       "<Figure size 432x288 with 1 Axes>"
      ]
     },
     "metadata": {
      "image/png": {
       "height": 271,
       "width": 362
      },
      "needs_background": "light"
     },
     "output_type": "display_data"
    }
   ],
   "source": [
    "plt.scatter(y_test, forest_reg_pred)"
   ]
  },
  {
   "cell_type": "markdown",
   "id": "b8cc7d8b",
   "metadata": {},
   "source": [
    "## Evaluating the Model"
   ]
  },
  {
   "cell_type": "code",
   "execution_count": 117,
   "id": "a06b74be",
   "metadata": {},
   "outputs": [
    {
     "name": "stdout",
     "output_type": "stream",
     "text": [
      "MAE  119678.67666386587\n",
      "MSE  46338567100.52571\n",
      "RMSE  215263.94751682342\n"
     ]
    }
   ],
   "source": [
    "print('MAE ', metrics.mean_absolute_error(y_test,forest_reg_pred))\n",
    "print('MSE ', metrics.mean_squared_error(y_test,forest_reg_pred))\n",
    "print('RMSE ', np.sqrt(metrics.mean_squared_error(y_test, forest_reg_pred)))"
   ]
  },
  {
   "cell_type": "markdown",
   "id": "80e73f2b",
   "metadata": {},
   "source": [
    "# Observations\n",
    "Of all the models used, linear regression performed better in term of RMSE <br>\n",
    "Linear Regression: 209874.09048992503 <br>\n",
    "Decision Tree Regression: 26343.08165368155 <br>\n",
    "Random Forest Regression: 215263.94751682342 "
   ]
  },
  {
   "cell_type": "code",
   "execution_count": null,
   "id": "0d89c67d",
   "metadata": {},
   "outputs": [],
   "source": []
  }
 ],
 "metadata": {
  "kernelspec": {
   "display_name": "Python [conda env:udacity]",
   "language": "python",
   "name": "conda-env-udacity-py"
  },
  "language_info": {
   "codemirror_mode": {
    "name": "ipython",
    "version": 3
   },
   "file_extension": ".py",
   "mimetype": "text/x-python",
   "name": "python",
   "nbconvert_exporter": "python",
   "pygments_lexer": "ipython3",
   "version": "3.9.7"
  }
 },
 "nbformat": 4,
 "nbformat_minor": 5
}
